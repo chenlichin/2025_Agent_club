{
  "nbformat": 4,
  "nbformat_minor": 0,
  "metadata": {
    "colab": {
      "provenance": []
    },
    "kernelspec": {
      "name": "python3",
      "display_name": "Python 3"
    },
    "language_info": {
      "name": "python"
    }
  },
  "cells": [
    {
      "cell_type": "markdown",
      "source": [
        "# R3-Tool_HW\n",
        "\n"
      ],
      "metadata": {
        "id": "_dRuBpntVvcE"
      }
    },
    {
      "cell_type": "markdown",
      "source": [
        "## 非程式題\n",
        "\n",
        "請前往 https://mcp.so/ ，選擇一個 MCP Server，並回答以下問題：\n",
        "\n",
        "### 1. 該 MCP Server 的名稱為何？\n",
        "> Enhance Prompt\n",
        "\n",
        "### 2. 它提供了哪些主要功能？\n",
        "\n",
        "> 接受簡單的關鍵字、短語或初始簡短提示，並將其增強為詳細、高品質的提示。此工具透過添加結構、上下文和具體性來提升最低限度的輸入，將基本想法轉化為有效的提示，並進行最佳化，以便從 AI 模型中產生更好、更可預測的結果。\n",
        "\n",
        "\n",
        "### 3. 你認為這些功能可以應用於哪些實際場景或解決哪些問題？\n",
        "> Magic Prompt, 在接受User問題時，快速進行高階意圖轉換"
      ],
      "metadata": {
        "id": "nvLW8wVj3Ocb"
      }
    },
    {
      "cell_type": "markdown",
      "source": [
        "## 程式題\n",
        "### baseline\n",
        "\n",
        "使用 LangChain 的 Agent，註冊三個工具（查天氣、查時間、查匯率），讓 Agent 根據輸入自動選擇正確的工具來回答問題。"
      ],
      "metadata": {
        "id": "wk_XJXdp3sI_"
      }
    },
    {
      "cell_type": "code",
      "source": [
        "%%capture --no-stderr\n",
        "!pip install -U langgraph langchain_openai==0.3.15 langchain transformers bitsandbytes langchain-huggingface langchain_core pydantic"
      ],
      "metadata": {
        "id": "X0GyUcZvQdSZ"
      },
      "execution_count": 1,
      "outputs": []
    },
    {
      "cell_type": "code",
      "source": [
        "import os\n",
        "from typing import Annotated,List, Optional\n",
        "from typing_extensions import TypedDict\n",
        "from langgraph.graph import StateGraph, START, END\n",
        "from langgraph.graph.message import add_messages\n",
        "from langchain_core.messages import HumanMessage, AIMessage, SystemMessage\n",
        "from langgraph.checkpoint.memory import MemorySaver\n",
        "from langgraph.store.memory import InMemoryStore\n",
        "from langchain_openai import ChatOpenAI\n",
        "from langchain_core.messages import trim_messages\n",
        "from pydantic import BaseModel"
      ],
      "metadata": {
        "id": "jqmA0EpNQdxZ"
      },
      "execution_count": 2,
      "outputs": []
    },
    {
      "cell_type": "code",
      "source": [
        "from google.colab import userdata"
      ],
      "metadata": {
        "id": "fN9DV-3KR0wb"
      },
      "execution_count": 5,
      "outputs": []
    },
    {
      "cell_type": "code",
      "source": [
        "os.environ['OPENAI_API_KEY'] = userdata.get('OPENAI_API_KEY')\n",
        "os.environ['OPENAI_API_BASE'] = userdata.get('OPENAI_API_BASE')"
      ],
      "metadata": {
        "id": "40OUEl8YRxP7"
      },
      "execution_count": 6,
      "outputs": []
    },
    {
      "cell_type": "code",
      "source": [
        "!pip install -U langchain_community"
      ],
      "metadata": {
        "id": "ZkfeKgTJTj-N"
      },
      "execution_count": null,
      "outputs": []
    },
    {
      "cell_type": "code",
      "source": [
        "from langchain_community.chat_models import ChatOpenAI\n",
        "from langchain.agents import initialize_agent, AgentType, Tool, load_tools\n",
        "from langchain.tools import tool\n",
        "import datetime"
      ],
      "metadata": {
        "id": "SYiQOCoITdFC"
      },
      "execution_count": 57,
      "outputs": []
    },
    {
      "cell_type": "code",
      "source": [
        "def get_weather(location: str) -> str:\n",
        "  \"\"\"查詢指定地點的天氣。location 是地點，date 是日期（格式：YYYY-MM-DD，可選）\"\"\"\n",
        "  return f\"{location} 今天天氣晴，溫度約 25°C。\"\n",
        "\n",
        "def get_time(location: str) -> str:\n",
        "  \"\"\"查詢指定地點當下的時間。location 是地點\"\"\"\n",
        "  return f\"{location} 現在時間是下午 3:00。\"\n",
        "\n",
        "\n",
        "def get_exchange_rate(currency: str) -> str:\n",
        "  \"\"\"查詢指定幣種的匯率。currency 是幣種\"\"\"\n",
        "  if currency.upper() == \"USD\":\n",
        "      return \"1 USD = 31.25 TWD\"\n",
        "  elif currency.upper() == \"JPY\":\n",
        "      return \"1 JPY = 0.22 TWD\"\n",
        "  else:\n",
        "      return f\"{currency.upper()} 匯率資料暫無法提供\""
      ],
      "metadata": {
        "id": "3g5RUY1cTvgA"
      },
      "execution_count": 58,
      "outputs": []
    },
    {
      "cell_type": "code",
      "source": [
        "tools = [\n",
        "    Tool(\n",
        "        name=\"get_weather\",\n",
        "        func=get_weather,\n",
        "        description=\"查詢指定地點的天氣。location 是地點，date 是日期（格式：YYYY-MM-DD，可選）\"\n",
        "    ),\n",
        "    Tool(\n",
        "        name=\"get_time\",\n",
        "        func=get_time,\n",
        "        description=\"查詢指定地點當下的時間。location 是地點\"\n",
        "    ),\n",
        "    Tool(\n",
        "        name=\"get_exchange_rate\",\n",
        "        func=get_exchange_rate,\n",
        "        description=\"查詢指定幣種的匯率。currency 是幣種\"\n",
        "    )\n",
        "]"
      ],
      "metadata": {
        "id": "0Q9XF0fYVo7Y"
      },
      "execution_count": 60,
      "outputs": []
    },
    {
      "cell_type": "code",
      "source": [
        "MODEL = \"meta-llama/llama-3.3-70b-instruct:free\""
      ],
      "metadata": {
        "id": "g3xNTfAOWQAK"
      },
      "execution_count": 61,
      "outputs": []
    },
    {
      "cell_type": "code",
      "source": [
        "llm = ChatOpenAI(model=MODEL, base_url=\"https://openrouter.ai/api/v1\")\n",
        "#llm_with_tools = llm.bind_tools(tools)"
      ],
      "metadata": {
        "id": "Nz_GwEVAU3MA"
      },
      "execution_count": 64,
      "outputs": []
    },
    {
      "cell_type": "code",
      "source": [
        "# 3️⃣ 準備 system prompt，告訴模型「今天日期」\n",
        "today_str = datetime.date.today().isoformat()\n",
        "system_prompt = (\n",
        "    f\"今天日期是 {today_str}。在理解使用者提到的『今天、明天、後天』等相對日期時，\"\n",
        "    \"請以此日期為基準並回覆具體的 YYYY-MM-DD。\"\n",
        ")\n",
        "\n",
        "# 4️⃣ 初始化 Agent，透過 agent_kwargs 傳入 system prompt\n",
        "agent = initialize_agent(\n",
        "    tools=[get_weather],\n",
        "    llm=llm,\n",
        "    agent=AgentType.OPENAI_FUNCTIONS,\n",
        "    agent_kwargs={\"system_message\": system_prompt},\n",
        "    verbose=True          # 打開詳盡日誌，方便觀察工具呼叫\n",
        ")\n",
        ""
      ],
      "metadata": {
        "id": "twoaYiAHTTyi",
        "outputId": "0acc0816-6673-4741-b72e-a3662ba88ea1",
        "colab": {
          "base_uri": "https://localhost:8080/",
          "height": 391
        }
      },
      "execution_count": 65,
      "outputs": [
        {
          "output_type": "error",
          "ename": "AttributeError",
          "evalue": "'function' object has no attribute 'get'",
          "traceback": [
            "\u001b[0;31m---------------------------------------------------------------------------\u001b[0m",
            "\u001b[0;31mAttributeError\u001b[0m                            Traceback (most recent call last)",
            "\u001b[0;32m<ipython-input-65-4051669123>\u001b[0m in \u001b[0;36m<cell line: 0>\u001b[0;34m()\u001b[0m\n\u001b[1;32m      7\u001b[0m \u001b[0;34m\u001b[0m\u001b[0m\n\u001b[1;32m      8\u001b[0m \u001b[0;31m# 4️⃣ 初始化 Agent，透過 agent_kwargs 傳入 system prompt\u001b[0m\u001b[0;34m\u001b[0m\u001b[0;34m\u001b[0m\u001b[0m\n\u001b[0;32m----> 9\u001b[0;31m agent = initialize_agent(\n\u001b[0m\u001b[1;32m     10\u001b[0m     \u001b[0mtools\u001b[0m\u001b[0;34m=\u001b[0m\u001b[0;34m[\u001b[0m\u001b[0mget_weather\u001b[0m\u001b[0;34m]\u001b[0m\u001b[0;34m,\u001b[0m\u001b[0;34m\u001b[0m\u001b[0;34m\u001b[0m\u001b[0m\n\u001b[1;32m     11\u001b[0m     \u001b[0mllm\u001b[0m\u001b[0;34m=\u001b[0m\u001b[0mllm\u001b[0m\u001b[0;34m,\u001b[0m\u001b[0;34m\u001b[0m\u001b[0;34m\u001b[0m\u001b[0m\n",
            "\u001b[0;32m/usr/local/lib/python3.11/dist-packages/langchain_core/_api/deprecation.py\u001b[0m in \u001b[0;36mwarning_emitting_wrapper\u001b[0;34m(*args, **kwargs)\u001b[0m\n\u001b[1;32m    189\u001b[0m                 \u001b[0mwarned\u001b[0m \u001b[0;34m=\u001b[0m \u001b[0;32mTrue\u001b[0m\u001b[0;34m\u001b[0m\u001b[0;34m\u001b[0m\u001b[0m\n\u001b[1;32m    190\u001b[0m                 \u001b[0memit_warning\u001b[0m\u001b[0;34m(\u001b[0m\u001b[0;34m)\u001b[0m\u001b[0;34m\u001b[0m\u001b[0;34m\u001b[0m\u001b[0m\n\u001b[0;32m--> 191\u001b[0;31m             \u001b[0;32mreturn\u001b[0m \u001b[0mwrapped\u001b[0m\u001b[0;34m(\u001b[0m\u001b[0;34m*\u001b[0m\u001b[0margs\u001b[0m\u001b[0;34m,\u001b[0m \u001b[0;34m**\u001b[0m\u001b[0mkwargs\u001b[0m\u001b[0;34m)\u001b[0m\u001b[0;34m\u001b[0m\u001b[0;34m\u001b[0m\u001b[0m\n\u001b[0m\u001b[1;32m    192\u001b[0m \u001b[0;34m\u001b[0m\u001b[0m\n\u001b[1;32m    193\u001b[0m         \u001b[0;32masync\u001b[0m \u001b[0;32mdef\u001b[0m \u001b[0mawarning_emitting_wrapper\u001b[0m\u001b[0;34m(\u001b[0m\u001b[0;34m*\u001b[0m\u001b[0margs\u001b[0m\u001b[0;34m:\u001b[0m \u001b[0mAny\u001b[0m\u001b[0;34m,\u001b[0m \u001b[0;34m**\u001b[0m\u001b[0mkwargs\u001b[0m\u001b[0;34m:\u001b[0m \u001b[0mAny\u001b[0m\u001b[0;34m)\u001b[0m \u001b[0;34m->\u001b[0m \u001b[0mAny\u001b[0m\u001b[0;34m:\u001b[0m\u001b[0;34m\u001b[0m\u001b[0;34m\u001b[0m\u001b[0m\n",
            "\u001b[0;32m/usr/local/lib/python3.11/dist-packages/langchain/agents/initialize.py\u001b[0m in \u001b[0;36minitialize_agent\u001b[0;34m(tools, llm, agent, callback_manager, agent_path, agent_kwargs, tags, **kwargs)\u001b[0m\n\u001b[1;32m     72\u001b[0m         \u001b[0magent_cls\u001b[0m \u001b[0;34m=\u001b[0m \u001b[0mAGENT_TO_CLASS\u001b[0m\u001b[0;34m[\u001b[0m\u001b[0magent\u001b[0m\u001b[0;34m]\u001b[0m\u001b[0;34m\u001b[0m\u001b[0;34m\u001b[0m\u001b[0m\n\u001b[1;32m     73\u001b[0m         \u001b[0magent_kwargs\u001b[0m \u001b[0;34m=\u001b[0m \u001b[0magent_kwargs\u001b[0m \u001b[0;32mor\u001b[0m \u001b[0;34m{\u001b[0m\u001b[0;34m}\u001b[0m\u001b[0;34m\u001b[0m\u001b[0;34m\u001b[0m\u001b[0m\n\u001b[0;32m---> 74\u001b[0;31m         agent_obj = agent_cls.from_llm_and_tools(\n\u001b[0m\u001b[1;32m     75\u001b[0m             \u001b[0mllm\u001b[0m\u001b[0;34m,\u001b[0m \u001b[0mtools\u001b[0m\u001b[0;34m,\u001b[0m \u001b[0mcallback_manager\u001b[0m\u001b[0;34m=\u001b[0m\u001b[0mcallback_manager\u001b[0m\u001b[0;34m,\u001b[0m \u001b[0;34m**\u001b[0m\u001b[0magent_kwargs\u001b[0m\u001b[0;34m\u001b[0m\u001b[0;34m\u001b[0m\u001b[0m\n\u001b[1;32m     76\u001b[0m         )\n",
            "\u001b[0;32m/usr/local/lib/python3.11/dist-packages/langchain/agents/openai_functions_agent/base.py\u001b[0m in \u001b[0;36mfrom_llm_and_tools\u001b[0;34m(cls, llm, tools, callback_manager, extra_prompt_messages, system_message, **kwargs)\u001b[0m\n\u001b[1;32m    271\u001b[0m             \u001b[0msystem_message\u001b[0m\u001b[0;34m=\u001b[0m\u001b[0msystem_message\u001b[0m\u001b[0;34m,\u001b[0m\u001b[0;34m\u001b[0m\u001b[0;34m\u001b[0m\u001b[0m\n\u001b[1;32m    272\u001b[0m         )\n\u001b[0;32m--> 273\u001b[0;31m         return cls(  # type: ignore[call-arg]\n\u001b[0m\u001b[1;32m    274\u001b[0m             \u001b[0mllm\u001b[0m\u001b[0;34m=\u001b[0m\u001b[0mllm\u001b[0m\u001b[0;34m,\u001b[0m\u001b[0;34m\u001b[0m\u001b[0;34m\u001b[0m\u001b[0m\n\u001b[1;32m    275\u001b[0m             \u001b[0mprompt\u001b[0m\u001b[0;34m=\u001b[0m\u001b[0mprompt\u001b[0m\u001b[0;34m,\u001b[0m\u001b[0;34m\u001b[0m\u001b[0;34m\u001b[0m\u001b[0m\n",
            "\u001b[0;32m/usr/local/lib/python3.11/dist-packages/langchain_core/_api/deprecation.py\u001b[0m in \u001b[0;36mwarn_if_direct_instance\u001b[0;34m(self, *args, **kwargs)\u001b[0m\n\u001b[1;32m    222\u001b[0m                         \u001b[0mwarned\u001b[0m \u001b[0;34m=\u001b[0m \u001b[0;32mTrue\u001b[0m\u001b[0;34m\u001b[0m\u001b[0;34m\u001b[0m\u001b[0m\n\u001b[1;32m    223\u001b[0m                         \u001b[0memit_warning\u001b[0m\u001b[0;34m(\u001b[0m\u001b[0;34m)\u001b[0m\u001b[0;34m\u001b[0m\u001b[0;34m\u001b[0m\u001b[0m\n\u001b[0;32m--> 224\u001b[0;31m                     \u001b[0;32mreturn\u001b[0m \u001b[0mwrapped\u001b[0m\u001b[0;34m(\u001b[0m\u001b[0mself\u001b[0m\u001b[0;34m,\u001b[0m \u001b[0;34m*\u001b[0m\u001b[0margs\u001b[0m\u001b[0;34m,\u001b[0m \u001b[0;34m**\u001b[0m\u001b[0mkwargs\u001b[0m\u001b[0;34m)\u001b[0m\u001b[0;34m\u001b[0m\u001b[0;34m\u001b[0m\u001b[0m\n\u001b[0m\u001b[1;32m    225\u001b[0m \u001b[0;34m\u001b[0m\u001b[0m\n\u001b[1;32m    226\u001b[0m                 obj.__init__ = functools.wraps(obj.__init__)(  # type: ignore[misc]\n",
            "    \u001b[0;31m[... skipping hidden 1 frame]\u001b[0m\n",
            "\u001b[0;32m/usr/local/lib/python3.11/dist-packages/pydantic/_internal/_validators.py\u001b[0m in \u001b[0;36msequence_validator\u001b[0;34m(input_value, validator)\u001b[0m\n\u001b[1;32m     50\u001b[0m         \u001b[0minput_value\u001b[0m \u001b[0;34m=\u001b[0m \u001b[0mlist\u001b[0m\u001b[0;34m(\u001b[0m\u001b[0minput_value\u001b[0m\u001b[0;34m)\u001b[0m\u001b[0;34m\u001b[0m\u001b[0;34m\u001b[0m\u001b[0m\n\u001b[1;32m     51\u001b[0m \u001b[0;34m\u001b[0m\u001b[0m\n\u001b[0;32m---> 52\u001b[0;31m     \u001b[0mv_list\u001b[0m \u001b[0;34m=\u001b[0m \u001b[0mvalidator\u001b[0m\u001b[0;34m(\u001b[0m\u001b[0minput_value\u001b[0m\u001b[0;34m)\u001b[0m\u001b[0;34m\u001b[0m\u001b[0;34m\u001b[0m\u001b[0m\n\u001b[0m\u001b[1;32m     53\u001b[0m \u001b[0;34m\u001b[0m\u001b[0m\n\u001b[1;32m     54\u001b[0m     \u001b[0;31m# the rest of the logic is just re-creating the original type from `v_list`\u001b[0m\u001b[0;34m\u001b[0m\u001b[0;34m\u001b[0m\u001b[0m\n",
            "\u001b[0;32m/usr/local/lib/python3.11/dist-packages/langchain_core/tools/base.py\u001b[0m in \u001b[0;36mraise_deprecation\u001b[0;34m(cls, values)\u001b[0m\n\u001b[1;32m    606\u001b[0m             \u001b[0mThe\u001b[0m \u001b[0mvalidated\u001b[0m \u001b[0mvalues\u001b[0m\u001b[0;34m.\u001b[0m\u001b[0;34m\u001b[0m\u001b[0;34m\u001b[0m\u001b[0m\n\u001b[1;32m    607\u001b[0m         \"\"\"\n\u001b[0;32m--> 608\u001b[0;31m         \u001b[0;32mif\u001b[0m \u001b[0mvalues\u001b[0m\u001b[0;34m.\u001b[0m\u001b[0mget\u001b[0m\u001b[0;34m(\u001b[0m\u001b[0;34m\"callback_manager\"\u001b[0m\u001b[0;34m)\u001b[0m \u001b[0;32mis\u001b[0m \u001b[0;32mnot\u001b[0m \u001b[0;32mNone\u001b[0m\u001b[0;34m:\u001b[0m\u001b[0;34m\u001b[0m\u001b[0;34m\u001b[0m\u001b[0m\n\u001b[0m\u001b[1;32m    609\u001b[0m             warnings.warn(\n\u001b[1;32m    610\u001b[0m                 \u001b[0;34m\"callback_manager is deprecated. Please use callbacks instead.\"\u001b[0m\u001b[0;34m,\u001b[0m\u001b[0;34m\u001b[0m\u001b[0;34m\u001b[0m\u001b[0m\n",
            "\u001b[0;31mAttributeError\u001b[0m: 'function' object has no attribute 'get'"
          ]
        }
      ]
    },
    {
      "cell_type": "code",
      "source": [
        "# 5️⃣ 啟動 Agent：模型會用 system prompt 為基準，自動呼叫工具並回覆\n",
        "response = agent.run(\"我想知道後天高雄的天氣\")\n",
        "print(response)"
      ],
      "metadata": {
        "id": "AD6ytNCYUZ_s",
        "outputId": "b2613dac-fae0-471a-faad-2b055faf72ac",
        "colab": {
          "base_uri": "https://localhost:8080/",
          "height": 391
        }
      },
      "execution_count": 29,
      "outputs": [
        {
          "output_type": "stream",
          "name": "stdout",
          "text": [
            "\n",
            "\n",
            "\u001b[1m> Entering new AgentExecutor chain...\u001b[0m\n"
          ]
        },
        {
          "output_type": "error",
          "ename": "BadRequestError",
          "evalue": "Error code: 400 - {'error': {'message': '\"functions\" and \"function_call\" are deprecated in favor of \"tools\" and \"tool_choice.\" To learn how to use tools, visit: https://openrouter.ai/docs/requests#tool-calls', 'code': 400, 'metadata': {'provider_name': 'Chutes'}}, 'user_id': 'user_2w9gBJLw3SzVow6vIHt7E17gtjY'}",
          "traceback": [
            "\u001b[0;31m---------------------------------------------------------------------------\u001b[0m",
            "\u001b[0;31mBadRequestError\u001b[0m                           Traceback (most recent call last)",
            "\u001b[0;32m<ipython-input-29-447496075>\u001b[0m in \u001b[0;36m<cell line: 0>\u001b[0;34m()\u001b[0m\n\u001b[1;32m      1\u001b[0m \u001b[0;31m# 5️⃣ 啟動 Agent：模型會用 system prompt 為基準，自動呼叫工具並回覆\u001b[0m\u001b[0;34m\u001b[0m\u001b[0;34m\u001b[0m\u001b[0m\n\u001b[0;32m----> 2\u001b[0;31m \u001b[0mresponse\u001b[0m \u001b[0;34m=\u001b[0m \u001b[0magent\u001b[0m\u001b[0;34m.\u001b[0m\u001b[0mrun\u001b[0m\u001b[0;34m(\u001b[0m\u001b[0;34m\"我想知道後天高雄的天氣\"\u001b[0m\u001b[0;34m)\u001b[0m\u001b[0;34m\u001b[0m\u001b[0;34m\u001b[0m\u001b[0m\n\u001b[0m\u001b[1;32m      3\u001b[0m \u001b[0mprint\u001b[0m\u001b[0;34m(\u001b[0m\u001b[0mresponse\u001b[0m\u001b[0;34m)\u001b[0m\u001b[0;34m\u001b[0m\u001b[0;34m\u001b[0m\u001b[0m\n",
            "\u001b[0;32m/usr/local/lib/python3.11/dist-packages/langchain_core/_api/deprecation.py\u001b[0m in \u001b[0;36mwarning_emitting_wrapper\u001b[0;34m(*args, **kwargs)\u001b[0m\n\u001b[1;32m    189\u001b[0m                 \u001b[0mwarned\u001b[0m \u001b[0;34m=\u001b[0m \u001b[0;32mTrue\u001b[0m\u001b[0;34m\u001b[0m\u001b[0;34m\u001b[0m\u001b[0m\n\u001b[1;32m    190\u001b[0m                 \u001b[0memit_warning\u001b[0m\u001b[0;34m(\u001b[0m\u001b[0;34m)\u001b[0m\u001b[0;34m\u001b[0m\u001b[0;34m\u001b[0m\u001b[0m\n\u001b[0;32m--> 191\u001b[0;31m             \u001b[0;32mreturn\u001b[0m \u001b[0mwrapped\u001b[0m\u001b[0;34m(\u001b[0m\u001b[0;34m*\u001b[0m\u001b[0margs\u001b[0m\u001b[0;34m,\u001b[0m \u001b[0;34m**\u001b[0m\u001b[0mkwargs\u001b[0m\u001b[0;34m)\u001b[0m\u001b[0;34m\u001b[0m\u001b[0;34m\u001b[0m\u001b[0m\n\u001b[0m\u001b[1;32m    192\u001b[0m \u001b[0;34m\u001b[0m\u001b[0m\n\u001b[1;32m    193\u001b[0m         \u001b[0;32masync\u001b[0m \u001b[0;32mdef\u001b[0m \u001b[0mawarning_emitting_wrapper\u001b[0m\u001b[0;34m(\u001b[0m\u001b[0;34m*\u001b[0m\u001b[0margs\u001b[0m\u001b[0;34m:\u001b[0m \u001b[0mAny\u001b[0m\u001b[0;34m,\u001b[0m \u001b[0;34m**\u001b[0m\u001b[0mkwargs\u001b[0m\u001b[0;34m:\u001b[0m \u001b[0mAny\u001b[0m\u001b[0;34m)\u001b[0m \u001b[0;34m->\u001b[0m \u001b[0mAny\u001b[0m\u001b[0;34m:\u001b[0m\u001b[0;34m\u001b[0m\u001b[0;34m\u001b[0m\u001b[0m\n",
            "\u001b[0;32m/usr/local/lib/python3.11/dist-packages/langchain/chains/base.py\u001b[0m in \u001b[0;36mrun\u001b[0;34m(self, callbacks, tags, metadata, *args, **kwargs)\u001b[0m\n\u001b[1;32m    601\u001b[0m             \u001b[0;32mif\u001b[0m \u001b[0mlen\u001b[0m\u001b[0;34m(\u001b[0m\u001b[0margs\u001b[0m\u001b[0;34m)\u001b[0m \u001b[0;34m!=\u001b[0m \u001b[0;36m1\u001b[0m\u001b[0;34m:\u001b[0m\u001b[0;34m\u001b[0m\u001b[0;34m\u001b[0m\u001b[0m\n\u001b[1;32m    602\u001b[0m                 \u001b[0;32mraise\u001b[0m \u001b[0mValueError\u001b[0m\u001b[0;34m(\u001b[0m\u001b[0;34m\"`run` supports only one positional argument.\"\u001b[0m\u001b[0;34m)\u001b[0m\u001b[0;34m\u001b[0m\u001b[0;34m\u001b[0m\u001b[0m\n\u001b[0;32m--> 603\u001b[0;31m             return self(args[0], callbacks=callbacks, tags=tags, metadata=metadata)[\n\u001b[0m\u001b[1;32m    604\u001b[0m                 \u001b[0m_output_key\u001b[0m\u001b[0;34m\u001b[0m\u001b[0;34m\u001b[0m\u001b[0m\n\u001b[1;32m    605\u001b[0m             ]\n",
            "\u001b[0;32m/usr/local/lib/python3.11/dist-packages/langchain_core/_api/deprecation.py\u001b[0m in \u001b[0;36mwarning_emitting_wrapper\u001b[0;34m(*args, **kwargs)\u001b[0m\n\u001b[1;32m    189\u001b[0m                 \u001b[0mwarned\u001b[0m \u001b[0;34m=\u001b[0m \u001b[0;32mTrue\u001b[0m\u001b[0;34m\u001b[0m\u001b[0;34m\u001b[0m\u001b[0m\n\u001b[1;32m    190\u001b[0m                 \u001b[0memit_warning\u001b[0m\u001b[0;34m(\u001b[0m\u001b[0;34m)\u001b[0m\u001b[0;34m\u001b[0m\u001b[0;34m\u001b[0m\u001b[0m\n\u001b[0;32m--> 191\u001b[0;31m             \u001b[0;32mreturn\u001b[0m \u001b[0mwrapped\u001b[0m\u001b[0;34m(\u001b[0m\u001b[0;34m*\u001b[0m\u001b[0margs\u001b[0m\u001b[0;34m,\u001b[0m \u001b[0;34m**\u001b[0m\u001b[0mkwargs\u001b[0m\u001b[0;34m)\u001b[0m\u001b[0;34m\u001b[0m\u001b[0;34m\u001b[0m\u001b[0m\n\u001b[0m\u001b[1;32m    192\u001b[0m \u001b[0;34m\u001b[0m\u001b[0m\n\u001b[1;32m    193\u001b[0m         \u001b[0;32masync\u001b[0m \u001b[0;32mdef\u001b[0m \u001b[0mawarning_emitting_wrapper\u001b[0m\u001b[0;34m(\u001b[0m\u001b[0;34m*\u001b[0m\u001b[0margs\u001b[0m\u001b[0;34m:\u001b[0m \u001b[0mAny\u001b[0m\u001b[0;34m,\u001b[0m \u001b[0;34m**\u001b[0m\u001b[0mkwargs\u001b[0m\u001b[0;34m:\u001b[0m \u001b[0mAny\u001b[0m\u001b[0;34m)\u001b[0m \u001b[0;34m->\u001b[0m \u001b[0mAny\u001b[0m\u001b[0;34m:\u001b[0m\u001b[0;34m\u001b[0m\u001b[0;34m\u001b[0m\u001b[0m\n",
            "\u001b[0;32m/usr/local/lib/python3.11/dist-packages/langchain/chains/base.py\u001b[0m in \u001b[0;36m__call__\u001b[0;34m(self, inputs, return_only_outputs, callbacks, tags, metadata, run_name, include_run_info)\u001b[0m\n\u001b[1;32m    384\u001b[0m         }\n\u001b[1;32m    385\u001b[0m \u001b[0;34m\u001b[0m\u001b[0m\n\u001b[0;32m--> 386\u001b[0;31m         return self.invoke(\n\u001b[0m\u001b[1;32m    387\u001b[0m             \u001b[0minputs\u001b[0m\u001b[0;34m,\u001b[0m\u001b[0;34m\u001b[0m\u001b[0;34m\u001b[0m\u001b[0m\n\u001b[1;32m    388\u001b[0m             \u001b[0mcast\u001b[0m\u001b[0;34m(\u001b[0m\u001b[0mRunnableConfig\u001b[0m\u001b[0;34m,\u001b[0m \u001b[0;34m{\u001b[0m\u001b[0mk\u001b[0m\u001b[0;34m:\u001b[0m \u001b[0mv\u001b[0m \u001b[0;32mfor\u001b[0m \u001b[0mk\u001b[0m\u001b[0;34m,\u001b[0m \u001b[0mv\u001b[0m \u001b[0;32min\u001b[0m \u001b[0mconfig\u001b[0m\u001b[0;34m.\u001b[0m\u001b[0mitems\u001b[0m\u001b[0;34m(\u001b[0m\u001b[0;34m)\u001b[0m \u001b[0;32mif\u001b[0m \u001b[0mv\u001b[0m \u001b[0;32mis\u001b[0m \u001b[0;32mnot\u001b[0m \u001b[0;32mNone\u001b[0m\u001b[0;34m}\u001b[0m\u001b[0;34m)\u001b[0m\u001b[0;34m,\u001b[0m\u001b[0;34m\u001b[0m\u001b[0;34m\u001b[0m\u001b[0m\n",
            "\u001b[0;32m/usr/local/lib/python3.11/dist-packages/langchain/chains/base.py\u001b[0m in \u001b[0;36minvoke\u001b[0;34m(self, input, config, **kwargs)\u001b[0m\n\u001b[1;32m    165\u001b[0m         \u001b[0;32mexcept\u001b[0m \u001b[0mBaseException\u001b[0m \u001b[0;32mas\u001b[0m \u001b[0me\u001b[0m\u001b[0;34m:\u001b[0m\u001b[0;34m\u001b[0m\u001b[0;34m\u001b[0m\u001b[0m\n\u001b[1;32m    166\u001b[0m             \u001b[0mrun_manager\u001b[0m\u001b[0;34m.\u001b[0m\u001b[0mon_chain_error\u001b[0m\u001b[0;34m(\u001b[0m\u001b[0me\u001b[0m\u001b[0;34m)\u001b[0m\u001b[0;34m\u001b[0m\u001b[0;34m\u001b[0m\u001b[0m\n\u001b[0;32m--> 167\u001b[0;31m             \u001b[0;32mraise\u001b[0m \u001b[0me\u001b[0m\u001b[0;34m\u001b[0m\u001b[0;34m\u001b[0m\u001b[0m\n\u001b[0m\u001b[1;32m    168\u001b[0m         \u001b[0mrun_manager\u001b[0m\u001b[0;34m.\u001b[0m\u001b[0mon_chain_end\u001b[0m\u001b[0;34m(\u001b[0m\u001b[0moutputs\u001b[0m\u001b[0;34m)\u001b[0m\u001b[0;34m\u001b[0m\u001b[0;34m\u001b[0m\u001b[0m\n\u001b[1;32m    169\u001b[0m \u001b[0;34m\u001b[0m\u001b[0m\n",
            "\u001b[0;32m/usr/local/lib/python3.11/dist-packages/langchain/chains/base.py\u001b[0m in \u001b[0;36minvoke\u001b[0;34m(self, input, config, **kwargs)\u001b[0m\n\u001b[1;32m    155\u001b[0m             \u001b[0mself\u001b[0m\u001b[0;34m.\u001b[0m\u001b[0m_validate_inputs\u001b[0m\u001b[0;34m(\u001b[0m\u001b[0minputs\u001b[0m\u001b[0;34m)\u001b[0m\u001b[0;34m\u001b[0m\u001b[0;34m\u001b[0m\u001b[0m\n\u001b[1;32m    156\u001b[0m             outputs = (\n\u001b[0;32m--> 157\u001b[0;31m                 \u001b[0mself\u001b[0m\u001b[0;34m.\u001b[0m\u001b[0m_call\u001b[0m\u001b[0;34m(\u001b[0m\u001b[0minputs\u001b[0m\u001b[0;34m,\u001b[0m \u001b[0mrun_manager\u001b[0m\u001b[0;34m=\u001b[0m\u001b[0mrun_manager\u001b[0m\u001b[0;34m)\u001b[0m\u001b[0;34m\u001b[0m\u001b[0;34m\u001b[0m\u001b[0m\n\u001b[0m\u001b[1;32m    158\u001b[0m                 \u001b[0;32mif\u001b[0m \u001b[0mnew_arg_supported\u001b[0m\u001b[0;34m\u001b[0m\u001b[0;34m\u001b[0m\u001b[0m\n\u001b[1;32m    159\u001b[0m                 \u001b[0;32melse\u001b[0m \u001b[0mself\u001b[0m\u001b[0;34m.\u001b[0m\u001b[0m_call\u001b[0m\u001b[0;34m(\u001b[0m\u001b[0minputs\u001b[0m\u001b[0;34m)\u001b[0m\u001b[0;34m\u001b[0m\u001b[0;34m\u001b[0m\u001b[0m\n",
            "\u001b[0;32m/usr/local/lib/python3.11/dist-packages/langchain/agents/agent.py\u001b[0m in \u001b[0;36m_call\u001b[0;34m(self, inputs, run_manager)\u001b[0m\n\u001b[1;32m   1618\u001b[0m         \u001b[0;31m# We now enter the agent loop (until it returns something).\u001b[0m\u001b[0;34m\u001b[0m\u001b[0;34m\u001b[0m\u001b[0m\n\u001b[1;32m   1619\u001b[0m         \u001b[0;32mwhile\u001b[0m \u001b[0mself\u001b[0m\u001b[0;34m.\u001b[0m\u001b[0m_should_continue\u001b[0m\u001b[0;34m(\u001b[0m\u001b[0miterations\u001b[0m\u001b[0;34m,\u001b[0m \u001b[0mtime_elapsed\u001b[0m\u001b[0;34m)\u001b[0m\u001b[0;34m:\u001b[0m\u001b[0;34m\u001b[0m\u001b[0;34m\u001b[0m\u001b[0m\n\u001b[0;32m-> 1620\u001b[0;31m             next_step_output = self._take_next_step(\n\u001b[0m\u001b[1;32m   1621\u001b[0m                 \u001b[0mname_to_tool_map\u001b[0m\u001b[0;34m,\u001b[0m\u001b[0;34m\u001b[0m\u001b[0;34m\u001b[0m\u001b[0m\n\u001b[1;32m   1622\u001b[0m                 \u001b[0mcolor_mapping\u001b[0m\u001b[0;34m,\u001b[0m\u001b[0;34m\u001b[0m\u001b[0;34m\u001b[0m\u001b[0m\n",
            "\u001b[0;32m/usr/local/lib/python3.11/dist-packages/langchain/agents/agent.py\u001b[0m in \u001b[0;36m_take_next_step\u001b[0;34m(self, name_to_tool_map, color_mapping, inputs, intermediate_steps, run_manager)\u001b[0m\n\u001b[1;32m   1324\u001b[0m     ) -> Union[AgentFinish, list[tuple[AgentAction, str]]]:\n\u001b[1;32m   1325\u001b[0m         return self._consume_next_step(\n\u001b[0;32m-> 1326\u001b[0;31m             [\n\u001b[0m\u001b[1;32m   1327\u001b[0m                 \u001b[0ma\u001b[0m\u001b[0;34m\u001b[0m\u001b[0;34m\u001b[0m\u001b[0m\n\u001b[1;32m   1328\u001b[0m                 for a in self._iter_next_step(\n",
            "\u001b[0;32m/usr/local/lib/python3.11/dist-packages/langchain/agents/agent.py\u001b[0m in \u001b[0;36m<listcomp>\u001b[0;34m(.0)\u001b[0m\n\u001b[1;32m   1324\u001b[0m     ) -> Union[AgentFinish, list[tuple[AgentAction, str]]]:\n\u001b[1;32m   1325\u001b[0m         return self._consume_next_step(\n\u001b[0;32m-> 1326\u001b[0;31m             [\n\u001b[0m\u001b[1;32m   1327\u001b[0m                 \u001b[0ma\u001b[0m\u001b[0;34m\u001b[0m\u001b[0;34m\u001b[0m\u001b[0m\n\u001b[1;32m   1328\u001b[0m                 for a in self._iter_next_step(\n",
            "\u001b[0;32m/usr/local/lib/python3.11/dist-packages/langchain/agents/agent.py\u001b[0m in \u001b[0;36m_iter_next_step\u001b[0;34m(self, name_to_tool_map, color_mapping, inputs, intermediate_steps, run_manager)\u001b[0m\n\u001b[1;32m   1352\u001b[0m \u001b[0;34m\u001b[0m\u001b[0m\n\u001b[1;32m   1353\u001b[0m             \u001b[0;31m# Call the LLM to see what to do.\u001b[0m\u001b[0;34m\u001b[0m\u001b[0;34m\u001b[0m\u001b[0m\n\u001b[0;32m-> 1354\u001b[0;31m             output = self._action_agent.plan(\n\u001b[0m\u001b[1;32m   1355\u001b[0m                 \u001b[0mintermediate_steps\u001b[0m\u001b[0;34m,\u001b[0m\u001b[0;34m\u001b[0m\u001b[0;34m\u001b[0m\u001b[0m\n\u001b[1;32m   1356\u001b[0m                 \u001b[0mcallbacks\u001b[0m\u001b[0;34m=\u001b[0m\u001b[0mrun_manager\u001b[0m\u001b[0;34m.\u001b[0m\u001b[0mget_child\u001b[0m\u001b[0;34m(\u001b[0m\u001b[0;34m)\u001b[0m \u001b[0;32mif\u001b[0m \u001b[0mrun_manager\u001b[0m \u001b[0;32melse\u001b[0m \u001b[0;32mNone\u001b[0m\u001b[0;34m,\u001b[0m\u001b[0;34m\u001b[0m\u001b[0;34m\u001b[0m\u001b[0m\n",
            "\u001b[0;32m/usr/local/lib/python3.11/dist-packages/langchain/agents/openai_functions_agent/base.py\u001b[0m in \u001b[0;36mplan\u001b[0;34m(self, intermediate_steps, callbacks, with_functions, **kwargs)\u001b[0m\n\u001b[1;32m    122\u001b[0m         \u001b[0mmessages\u001b[0m \u001b[0;34m=\u001b[0m \u001b[0mprompt\u001b[0m\u001b[0;34m.\u001b[0m\u001b[0mto_messages\u001b[0m\u001b[0;34m(\u001b[0m\u001b[0;34m)\u001b[0m\u001b[0;34m\u001b[0m\u001b[0;34m\u001b[0m\u001b[0m\n\u001b[1;32m    123\u001b[0m         \u001b[0;32mif\u001b[0m \u001b[0mwith_functions\u001b[0m\u001b[0;34m:\u001b[0m\u001b[0;34m\u001b[0m\u001b[0;34m\u001b[0m\u001b[0m\n\u001b[0;32m--> 124\u001b[0;31m             predicted_message = self.llm.predict_messages(\n\u001b[0m\u001b[1;32m    125\u001b[0m                 \u001b[0mmessages\u001b[0m\u001b[0;34m,\u001b[0m\u001b[0;34m\u001b[0m\u001b[0;34m\u001b[0m\u001b[0m\n\u001b[1;32m    126\u001b[0m                 \u001b[0mfunctions\u001b[0m\u001b[0;34m=\u001b[0m\u001b[0mself\u001b[0m\u001b[0;34m.\u001b[0m\u001b[0mfunctions\u001b[0m\u001b[0;34m,\u001b[0m\u001b[0;34m\u001b[0m\u001b[0;34m\u001b[0m\u001b[0m\n",
            "\u001b[0;32m/usr/local/lib/python3.11/dist-packages/langchain_core/_api/deprecation.py\u001b[0m in \u001b[0;36mwarning_emitting_wrapper\u001b[0;34m(*args, **kwargs)\u001b[0m\n\u001b[1;32m    189\u001b[0m                 \u001b[0mwarned\u001b[0m \u001b[0;34m=\u001b[0m \u001b[0;32mTrue\u001b[0m\u001b[0;34m\u001b[0m\u001b[0;34m\u001b[0m\u001b[0m\n\u001b[1;32m    190\u001b[0m                 \u001b[0memit_warning\u001b[0m\u001b[0;34m(\u001b[0m\u001b[0;34m)\u001b[0m\u001b[0;34m\u001b[0m\u001b[0;34m\u001b[0m\u001b[0m\n\u001b[0;32m--> 191\u001b[0;31m             \u001b[0;32mreturn\u001b[0m \u001b[0mwrapped\u001b[0m\u001b[0;34m(\u001b[0m\u001b[0;34m*\u001b[0m\u001b[0margs\u001b[0m\u001b[0;34m,\u001b[0m \u001b[0;34m**\u001b[0m\u001b[0mkwargs\u001b[0m\u001b[0;34m)\u001b[0m\u001b[0;34m\u001b[0m\u001b[0;34m\u001b[0m\u001b[0m\n\u001b[0m\u001b[1;32m    192\u001b[0m \u001b[0;34m\u001b[0m\u001b[0m\n\u001b[1;32m    193\u001b[0m         \u001b[0;32masync\u001b[0m \u001b[0;32mdef\u001b[0m \u001b[0mawarning_emitting_wrapper\u001b[0m\u001b[0;34m(\u001b[0m\u001b[0;34m*\u001b[0m\u001b[0margs\u001b[0m\u001b[0;34m:\u001b[0m \u001b[0mAny\u001b[0m\u001b[0;34m,\u001b[0m \u001b[0;34m**\u001b[0m\u001b[0mkwargs\u001b[0m\u001b[0;34m:\u001b[0m \u001b[0mAny\u001b[0m\u001b[0;34m)\u001b[0m \u001b[0;34m->\u001b[0m \u001b[0mAny\u001b[0m\u001b[0;34m:\u001b[0m\u001b[0;34m\u001b[0m\u001b[0;34m\u001b[0m\u001b[0m\n",
            "\u001b[0;32m/usr/local/lib/python3.11/dist-packages/langchain_core/language_models/chat_models.py\u001b[0m in \u001b[0;36mpredict_messages\u001b[0;34m(self, messages, stop, **kwargs)\u001b[0m\n\u001b[1;32m   1275\u001b[0m     ) -> BaseMessage:\n\u001b[1;32m   1276\u001b[0m         \u001b[0m_stop\u001b[0m \u001b[0;34m=\u001b[0m \u001b[0;32mNone\u001b[0m \u001b[0;32mif\u001b[0m \u001b[0mstop\u001b[0m \u001b[0;32mis\u001b[0m \u001b[0;32mNone\u001b[0m \u001b[0;32melse\u001b[0m \u001b[0mlist\u001b[0m\u001b[0;34m(\u001b[0m\u001b[0mstop\u001b[0m\u001b[0;34m)\u001b[0m\u001b[0;34m\u001b[0m\u001b[0;34m\u001b[0m\u001b[0m\n\u001b[0;32m-> 1277\u001b[0;31m         \u001b[0;32mreturn\u001b[0m \u001b[0mself\u001b[0m\u001b[0;34m(\u001b[0m\u001b[0mmessages\u001b[0m\u001b[0;34m,\u001b[0m \u001b[0mstop\u001b[0m\u001b[0;34m=\u001b[0m\u001b[0m_stop\u001b[0m\u001b[0;34m,\u001b[0m \u001b[0;34m**\u001b[0m\u001b[0mkwargs\u001b[0m\u001b[0;34m)\u001b[0m\u001b[0;34m\u001b[0m\u001b[0;34m\u001b[0m\u001b[0m\n\u001b[0m\u001b[1;32m   1278\u001b[0m \u001b[0;34m\u001b[0m\u001b[0m\n\u001b[1;32m   1279\u001b[0m     \u001b[0;34m@\u001b[0m\u001b[0mdeprecated\u001b[0m\u001b[0;34m(\u001b[0m\u001b[0;34m\"0.1.7\"\u001b[0m\u001b[0;34m,\u001b[0m \u001b[0malternative\u001b[0m\u001b[0;34m=\u001b[0m\u001b[0;34m\"ainvoke\"\u001b[0m\u001b[0;34m,\u001b[0m \u001b[0mremoval\u001b[0m\u001b[0;34m=\u001b[0m\u001b[0;34m\"1.0\"\u001b[0m\u001b[0;34m)\u001b[0m\u001b[0;34m\u001b[0m\u001b[0;34m\u001b[0m\u001b[0m\n",
            "\u001b[0;32m/usr/local/lib/python3.11/dist-packages/langchain_core/_api/deprecation.py\u001b[0m in \u001b[0;36mwarning_emitting_wrapper\u001b[0;34m(*args, **kwargs)\u001b[0m\n\u001b[1;32m    189\u001b[0m                 \u001b[0mwarned\u001b[0m \u001b[0;34m=\u001b[0m \u001b[0;32mTrue\u001b[0m\u001b[0;34m\u001b[0m\u001b[0;34m\u001b[0m\u001b[0m\n\u001b[1;32m    190\u001b[0m                 \u001b[0memit_warning\u001b[0m\u001b[0;34m(\u001b[0m\u001b[0;34m)\u001b[0m\u001b[0;34m\u001b[0m\u001b[0;34m\u001b[0m\u001b[0m\n\u001b[0;32m--> 191\u001b[0;31m             \u001b[0;32mreturn\u001b[0m \u001b[0mwrapped\u001b[0m\u001b[0;34m(\u001b[0m\u001b[0;34m*\u001b[0m\u001b[0margs\u001b[0m\u001b[0;34m,\u001b[0m \u001b[0;34m**\u001b[0m\u001b[0mkwargs\u001b[0m\u001b[0;34m)\u001b[0m\u001b[0;34m\u001b[0m\u001b[0;34m\u001b[0m\u001b[0m\n\u001b[0m\u001b[1;32m    192\u001b[0m \u001b[0;34m\u001b[0m\u001b[0m\n\u001b[1;32m    193\u001b[0m         \u001b[0;32masync\u001b[0m \u001b[0;32mdef\u001b[0m \u001b[0mawarning_emitting_wrapper\u001b[0m\u001b[0;34m(\u001b[0m\u001b[0;34m*\u001b[0m\u001b[0margs\u001b[0m\u001b[0;34m:\u001b[0m \u001b[0mAny\u001b[0m\u001b[0;34m,\u001b[0m \u001b[0;34m**\u001b[0m\u001b[0mkwargs\u001b[0m\u001b[0;34m:\u001b[0m \u001b[0mAny\u001b[0m\u001b[0;34m)\u001b[0m \u001b[0;34m->\u001b[0m \u001b[0mAny\u001b[0m\u001b[0;34m:\u001b[0m\u001b[0;34m\u001b[0m\u001b[0;34m\u001b[0m\u001b[0m\n",
            "\u001b[0;32m/usr/local/lib/python3.11/dist-packages/langchain_core/language_models/chat_models.py\u001b[0m in \u001b[0;36m__call__\u001b[0;34m(self, messages, stop, callbacks, **kwargs)\u001b[0m\n\u001b[1;32m   1199\u001b[0m             \u001b[0mThe\u001b[0m \u001b[0mmodel\u001b[0m \u001b[0moutput\u001b[0m \u001b[0mmessage\u001b[0m\u001b[0;34m.\u001b[0m\u001b[0;34m\u001b[0m\u001b[0;34m\u001b[0m\u001b[0m\n\u001b[1;32m   1200\u001b[0m         \"\"\"\n\u001b[0;32m-> 1201\u001b[0;31m         generation = self.generate(\n\u001b[0m\u001b[1;32m   1202\u001b[0m             \u001b[0;34m[\u001b[0m\u001b[0mmessages\u001b[0m\u001b[0;34m]\u001b[0m\u001b[0;34m,\u001b[0m \u001b[0mstop\u001b[0m\u001b[0;34m=\u001b[0m\u001b[0mstop\u001b[0m\u001b[0;34m,\u001b[0m \u001b[0mcallbacks\u001b[0m\u001b[0;34m=\u001b[0m\u001b[0mcallbacks\u001b[0m\u001b[0;34m,\u001b[0m \u001b[0;34m**\u001b[0m\u001b[0mkwargs\u001b[0m\u001b[0;34m\u001b[0m\u001b[0;34m\u001b[0m\u001b[0m\n\u001b[1;32m   1203\u001b[0m         ).generations[0][0]\n",
            "\u001b[0;32m/usr/local/lib/python3.11/dist-packages/langchain_core/language_models/chat_models.py\u001b[0m in \u001b[0;36mgenerate\u001b[0;34m(self, messages, stop, callbacks, tags, metadata, run_name, run_id, **kwargs)\u001b[0m\n\u001b[1;32m    774\u001b[0m             \u001b[0;32mtry\u001b[0m\u001b[0;34m:\u001b[0m\u001b[0;34m\u001b[0m\u001b[0;34m\u001b[0m\u001b[0m\n\u001b[1;32m    775\u001b[0m                 results.append(\n\u001b[0;32m--> 776\u001b[0;31m                     self._generate_with_cache(\n\u001b[0m\u001b[1;32m    777\u001b[0m                         \u001b[0mm\u001b[0m\u001b[0;34m,\u001b[0m\u001b[0;34m\u001b[0m\u001b[0;34m\u001b[0m\u001b[0m\n\u001b[1;32m    778\u001b[0m                         \u001b[0mstop\u001b[0m\u001b[0;34m=\u001b[0m\u001b[0mstop\u001b[0m\u001b[0;34m,\u001b[0m\u001b[0;34m\u001b[0m\u001b[0;34m\u001b[0m\u001b[0m\n",
            "\u001b[0;32m/usr/local/lib/python3.11/dist-packages/langchain_core/language_models/chat_models.py\u001b[0m in \u001b[0;36m_generate_with_cache\u001b[0;34m(self, messages, stop, run_manager, **kwargs)\u001b[0m\n\u001b[1;32m   1020\u001b[0m             \u001b[0mresult\u001b[0m \u001b[0;34m=\u001b[0m \u001b[0mgenerate_from_stream\u001b[0m\u001b[0;34m(\u001b[0m\u001b[0miter\u001b[0m\u001b[0;34m(\u001b[0m\u001b[0mchunks\u001b[0m\u001b[0;34m)\u001b[0m\u001b[0;34m)\u001b[0m\u001b[0;34m\u001b[0m\u001b[0;34m\u001b[0m\u001b[0m\n\u001b[1;32m   1021\u001b[0m         \u001b[0;32melif\u001b[0m \u001b[0minspect\u001b[0m\u001b[0;34m.\u001b[0m\u001b[0msignature\u001b[0m\u001b[0;34m(\u001b[0m\u001b[0mself\u001b[0m\u001b[0;34m.\u001b[0m\u001b[0m_generate\u001b[0m\u001b[0;34m)\u001b[0m\u001b[0;34m.\u001b[0m\u001b[0mparameters\u001b[0m\u001b[0;34m.\u001b[0m\u001b[0mget\u001b[0m\u001b[0;34m(\u001b[0m\u001b[0;34m\"run_manager\"\u001b[0m\u001b[0;34m)\u001b[0m\u001b[0;34m:\u001b[0m\u001b[0;34m\u001b[0m\u001b[0;34m\u001b[0m\u001b[0m\n\u001b[0;32m-> 1022\u001b[0;31m             result = self._generate(\n\u001b[0m\u001b[1;32m   1023\u001b[0m                 \u001b[0mmessages\u001b[0m\u001b[0;34m,\u001b[0m \u001b[0mstop\u001b[0m\u001b[0;34m=\u001b[0m\u001b[0mstop\u001b[0m\u001b[0;34m,\u001b[0m \u001b[0mrun_manager\u001b[0m\u001b[0;34m=\u001b[0m\u001b[0mrun_manager\u001b[0m\u001b[0;34m,\u001b[0m \u001b[0;34m**\u001b[0m\u001b[0mkwargs\u001b[0m\u001b[0;34m\u001b[0m\u001b[0;34m\u001b[0m\u001b[0m\n\u001b[1;32m   1024\u001b[0m             )\n",
            "\u001b[0;32m/usr/local/lib/python3.11/dist-packages/langchain_openai/chat_models/base.py\u001b[0m in \u001b[0;36m_generate\u001b[0;34m(self, messages, stop, run_manager, **kwargs)\u001b[0m\n\u001b[1;32m    955\u001b[0m             \u001b[0mgeneration_info\u001b[0m \u001b[0;34m=\u001b[0m \u001b[0;34m{\u001b[0m\u001b[0;34m\"headers\"\u001b[0m\u001b[0;34m:\u001b[0m \u001b[0mdict\u001b[0m\u001b[0;34m(\u001b[0m\u001b[0mraw_response\u001b[0m\u001b[0;34m.\u001b[0m\u001b[0mheaders\u001b[0m\u001b[0;34m)\u001b[0m\u001b[0;34m}\u001b[0m\u001b[0;34m\u001b[0m\u001b[0;34m\u001b[0m\u001b[0m\n\u001b[1;32m    956\u001b[0m         \u001b[0;32melse\u001b[0m\u001b[0;34m:\u001b[0m\u001b[0;34m\u001b[0m\u001b[0;34m\u001b[0m\u001b[0m\n\u001b[0;32m--> 957\u001b[0;31m             \u001b[0mresponse\u001b[0m \u001b[0;34m=\u001b[0m \u001b[0mself\u001b[0m\u001b[0;34m.\u001b[0m\u001b[0mclient\u001b[0m\u001b[0;34m.\u001b[0m\u001b[0mcreate\u001b[0m\u001b[0;34m(\u001b[0m\u001b[0;34m**\u001b[0m\u001b[0mpayload\u001b[0m\u001b[0;34m)\u001b[0m\u001b[0;34m\u001b[0m\u001b[0;34m\u001b[0m\u001b[0m\n\u001b[0m\u001b[1;32m    958\u001b[0m         \u001b[0;32mreturn\u001b[0m \u001b[0mself\u001b[0m\u001b[0;34m.\u001b[0m\u001b[0m_create_chat_result\u001b[0m\u001b[0;34m(\u001b[0m\u001b[0mresponse\u001b[0m\u001b[0;34m,\u001b[0m \u001b[0mgeneration_info\u001b[0m\u001b[0;34m)\u001b[0m\u001b[0;34m\u001b[0m\u001b[0;34m\u001b[0m\u001b[0m\n\u001b[1;32m    959\u001b[0m \u001b[0;34m\u001b[0m\u001b[0m\n",
            "\u001b[0;32m/usr/local/lib/python3.11/dist-packages/openai/_utils/_utils.py\u001b[0m in \u001b[0;36mwrapper\u001b[0;34m(*args, **kwargs)\u001b[0m\n\u001b[1;32m    285\u001b[0m                         \u001b[0mmsg\u001b[0m \u001b[0;34m=\u001b[0m \u001b[0;34mf\"Missing required argument: {quote(missing[0])}\"\u001b[0m\u001b[0;34m\u001b[0m\u001b[0;34m\u001b[0m\u001b[0m\n\u001b[1;32m    286\u001b[0m                 \u001b[0;32mraise\u001b[0m \u001b[0mTypeError\u001b[0m\u001b[0;34m(\u001b[0m\u001b[0mmsg\u001b[0m\u001b[0;34m)\u001b[0m\u001b[0;34m\u001b[0m\u001b[0;34m\u001b[0m\u001b[0m\n\u001b[0;32m--> 287\u001b[0;31m             \u001b[0;32mreturn\u001b[0m \u001b[0mfunc\u001b[0m\u001b[0;34m(\u001b[0m\u001b[0;34m*\u001b[0m\u001b[0margs\u001b[0m\u001b[0;34m,\u001b[0m \u001b[0;34m**\u001b[0m\u001b[0mkwargs\u001b[0m\u001b[0;34m)\u001b[0m\u001b[0;34m\u001b[0m\u001b[0;34m\u001b[0m\u001b[0m\n\u001b[0m\u001b[1;32m    288\u001b[0m \u001b[0;34m\u001b[0m\u001b[0m\n\u001b[1;32m    289\u001b[0m         \u001b[0;32mreturn\u001b[0m \u001b[0mwrapper\u001b[0m  \u001b[0;31m# type: ignore\u001b[0m\u001b[0;34m\u001b[0m\u001b[0;34m\u001b[0m\u001b[0m\n",
            "\u001b[0;32m/usr/local/lib/python3.11/dist-packages/openai/resources/chat/completions/completions.py\u001b[0m in \u001b[0;36mcreate\u001b[0;34m(self, messages, model, audio, frequency_penalty, function_call, functions, logit_bias, logprobs, max_completion_tokens, max_tokens, metadata, modalities, n, parallel_tool_calls, prediction, presence_penalty, reasoning_effort, response_format, seed, service_tier, stop, store, stream, stream_options, temperature, tool_choice, tools, top_logprobs, top_p, user, web_search_options, extra_headers, extra_query, extra_body, timeout)\u001b[0m\n\u001b[1;32m    923\u001b[0m     ) -> ChatCompletion | Stream[ChatCompletionChunk]:\n\u001b[1;32m    924\u001b[0m         \u001b[0mvalidate_response_format\u001b[0m\u001b[0;34m(\u001b[0m\u001b[0mresponse_format\u001b[0m\u001b[0;34m)\u001b[0m\u001b[0;34m\u001b[0m\u001b[0;34m\u001b[0m\u001b[0m\n\u001b[0;32m--> 925\u001b[0;31m         return self._post(\n\u001b[0m\u001b[1;32m    926\u001b[0m             \u001b[0;34m\"/chat/completions\"\u001b[0m\u001b[0;34m,\u001b[0m\u001b[0;34m\u001b[0m\u001b[0;34m\u001b[0m\u001b[0m\n\u001b[1;32m    927\u001b[0m             body=maybe_transform(\n",
            "\u001b[0;32m/usr/local/lib/python3.11/dist-packages/openai/_base_client.py\u001b[0m in \u001b[0;36mpost\u001b[0;34m(self, path, cast_to, body, options, files, stream, stream_cls)\u001b[0m\n\u001b[1;32m   1240\u001b[0m             \u001b[0mmethod\u001b[0m\u001b[0;34m=\u001b[0m\u001b[0;34m\"post\"\u001b[0m\u001b[0;34m,\u001b[0m \u001b[0murl\u001b[0m\u001b[0;34m=\u001b[0m\u001b[0mpath\u001b[0m\u001b[0;34m,\u001b[0m \u001b[0mjson_data\u001b[0m\u001b[0;34m=\u001b[0m\u001b[0mbody\u001b[0m\u001b[0;34m,\u001b[0m \u001b[0mfiles\u001b[0m\u001b[0;34m=\u001b[0m\u001b[0mto_httpx_files\u001b[0m\u001b[0;34m(\u001b[0m\u001b[0mfiles\u001b[0m\u001b[0;34m)\u001b[0m\u001b[0;34m,\u001b[0m \u001b[0;34m**\u001b[0m\u001b[0moptions\u001b[0m\u001b[0;34m\u001b[0m\u001b[0;34m\u001b[0m\u001b[0m\n\u001b[1;32m   1241\u001b[0m         )\n\u001b[0;32m-> 1242\u001b[0;31m         \u001b[0;32mreturn\u001b[0m \u001b[0mcast\u001b[0m\u001b[0;34m(\u001b[0m\u001b[0mResponseT\u001b[0m\u001b[0;34m,\u001b[0m \u001b[0mself\u001b[0m\u001b[0;34m.\u001b[0m\u001b[0mrequest\u001b[0m\u001b[0;34m(\u001b[0m\u001b[0mcast_to\u001b[0m\u001b[0;34m,\u001b[0m \u001b[0mopts\u001b[0m\u001b[0;34m,\u001b[0m \u001b[0mstream\u001b[0m\u001b[0;34m=\u001b[0m\u001b[0mstream\u001b[0m\u001b[0;34m,\u001b[0m \u001b[0mstream_cls\u001b[0m\u001b[0;34m=\u001b[0m\u001b[0mstream_cls\u001b[0m\u001b[0;34m)\u001b[0m\u001b[0;34m)\u001b[0m\u001b[0;34m\u001b[0m\u001b[0;34m\u001b[0m\u001b[0m\n\u001b[0m\u001b[1;32m   1243\u001b[0m \u001b[0;34m\u001b[0m\u001b[0m\n\u001b[1;32m   1244\u001b[0m     def patch(\n",
            "\u001b[0;32m/usr/local/lib/python3.11/dist-packages/openai/_base_client.py\u001b[0m in \u001b[0;36mrequest\u001b[0;34m(self, cast_to, options, stream, stream_cls)\u001b[0m\n\u001b[1;32m   1035\u001b[0m \u001b[0;34m\u001b[0m\u001b[0m\n\u001b[1;32m   1036\u001b[0m                 \u001b[0mlog\u001b[0m\u001b[0;34m.\u001b[0m\u001b[0mdebug\u001b[0m\u001b[0;34m(\u001b[0m\u001b[0;34m\"Re-raising status error\"\u001b[0m\u001b[0;34m)\u001b[0m\u001b[0;34m\u001b[0m\u001b[0;34m\u001b[0m\u001b[0m\n\u001b[0;32m-> 1037\u001b[0;31m                 \u001b[0;32mraise\u001b[0m \u001b[0mself\u001b[0m\u001b[0;34m.\u001b[0m\u001b[0m_make_status_error_from_response\u001b[0m\u001b[0;34m(\u001b[0m\u001b[0merr\u001b[0m\u001b[0;34m.\u001b[0m\u001b[0mresponse\u001b[0m\u001b[0;34m)\u001b[0m \u001b[0;32mfrom\u001b[0m \u001b[0;32mNone\u001b[0m\u001b[0;34m\u001b[0m\u001b[0;34m\u001b[0m\u001b[0m\n\u001b[0m\u001b[1;32m   1038\u001b[0m \u001b[0;34m\u001b[0m\u001b[0m\n\u001b[1;32m   1039\u001b[0m             \u001b[0;32mbreak\u001b[0m\u001b[0;34m\u001b[0m\u001b[0;34m\u001b[0m\u001b[0m\n",
            "\u001b[0;31mBadRequestError\u001b[0m: Error code: 400 - {'error': {'message': '\"functions\" and \"function_call\" are deprecated in favor of \"tools\" and \"tool_choice.\" To learn how to use tools, visit: https://openrouter.ai/docs/requests#tool-calls', 'code': 400, 'metadata': {'provider_name': 'Chutes'}}, 'user_id': 'user_2w9gBJLw3SzVow6vIHt7E17gtjY'}"
          ]
        }
      ]
    },
    {
      "cell_type": "markdown",
      "source": [
        "## Advanced\n",
        "使用LangGraph建立一個流程，由llm判斷問題是否與哆啦A夢道具相關，若有則使用RAG在資料庫裡找尋相關資料，若無則由模型自行回答問題。\n",
        "\n",
        "Hint:參考流程圖"
      ],
      "metadata": {
        "id": "Gr30FIQmngU1"
      }
    },
    {
      "cell_type": "markdown",
      "source": [
        "![image.png](data:image/png;base64,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)"
      ],
      "metadata": {
        "id": "yPKOUr36aHBj"
      }
    },
    {
      "cell_type": "code",
      "source": [
        "docs_text = \"\"\"\n",
        "道具名稱\t功能\n",
        "引路天使\t它可以告訴你最好的路，不至於在路上出意外。\n",
        "雲朵凝固瓦斯\t使用這個瓦斯的話，雲會凝固，變得可以奔走在雲上。\n",
        "交換繩\t兩人同時握住繩索的話，心還是一樣，但身體替換。\n",
        "室內旅行機\t可以顯示出各種地點的立體影像，但室內面積並不會隨之更動。會讓自己的家有旅行的味道。\n",
        "落難神明\t是一個難看老機器人。不過，幫助他的話，可以滿足3個請求。\n",
        "南北極徽章\t只要將自己與另外一個人貼上寫有「Ｎ」或「Ｓ」的徽章，就會變的像磁鐵一樣，同極相斥，異極相吸。\n",
        "間諜工具組合\t能用監視器看間諜人偶的「麥克風」和「」偵察的影像。\n",
        "聲音糖果\t只要利用這個錄製聲音，再給別人吃下去以後， 就可以得到被錄製聲音的特徵。\n",
        "進化退化放射線槍\t被這光照射到，動物就可以進化(或是退化)。\n",
        "算了算了棒\t用這個棒子將正在生氣的人的嘴巴堵住，並說「算了，算了」，那人氣就消了。\n",
        "助興樂團\t這兩個道具都是人型玩偶，都會播放音樂，讓氣氛變好；不同的是，只要讓小型插秧姑娘唱歌，就可以快速地完成插秧。\n",
        "四次元口袋\t哆啦A夢的道具都是放在這裡面的。四次元空間是個沒有大小的空間，要多大有多大。\n",
        "美食桌巾\t它可以幫你做出好吃的料理。無論甚麼料理都可以變出來。\n",
        "愛神之箭\t被箭射中的人，會對射箭的人產生好感。\n",
        "感動麥克風\t使用這個麥克風，發出的聲音就會讓人感動不已。\n",
        "桃太郎丸子\t讓動物吃下，他會對你言聽計從。\n",
        "樵夫之泉\t把東西丟到這個泉裡，女神就會出現。如果你說了實話，他就會給你一個更好、更新的東西。\n",
        "更衣照相機\t選擇合適的衣服，拍攝一下馬上就能穿在身上。\n",
        "穿透環\t可以穿過任何障礙。\n",
        "如果電話亭\t「如果這個世界是……」只要這樣對著話筒說話，就可以創造出你所說出的世界。但是當取消時，世界將會變成「平行世界」，雙方沒有瓜葛。\n",
        "翻譯蒟蒻\t吃了這個蒟蒻，任何人說的任何話，我們都可以聽懂、而且可以溝通。\n",
        "縮小燈\t被光照射到，東西會變小。\n",
        "記憶麵包\t只要吃下這個吐司，就能非常容易的記住事前寫在吐司上的事物。\n",
        "時光布\t包了的東西既可以變新，也可以變舊。\n",
        "竹蜻蜓\t是最常被哆啦A夢使用的道具！只要把它放置在身體任何部分，就可依自己意思在天空中翱翔。內藏超小型電池，可時速 80 公里連續飛行 8 小時。若是間斷飛行，還可撐更久！\n",
        "時光機\t除了時間移動之外，它也可以用來空間與空間間的互相移動。\n",
        "任意門\t只要心中想著想去的地點，電腦就會傳達並歪曲所在地與目的地間的空間而將兩地靠攏，跨過門就可以到達。但是不能去距離十光年以上的行星，或者是電腦地圖上沒有的地區。是很常用的道具，使用率位列第三，僅次於竹蜻蜓、時光機。\n",
        "\n",
        "\"\"\""
      ],
      "metadata": {
        "id": "JlHNMqSszfsG"
      },
      "execution_count": null,
      "outputs": []
    },
    {
      "cell_type": "code",
      "source": [
        "|"
      ],
      "metadata": {
        "id": "086uNL2tVKHO"
      },
      "execution_count": null,
      "outputs": []
    }
  ]
}