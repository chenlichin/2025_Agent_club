{
  "nbformat": 4,
  "nbformat_minor": 0,
  "metadata": {
    "colab": {
      "provenance": [],
      "gpuType": "T4"
    },
    "kernelspec": {
      "name": "python3",
      "display_name": "Python 3"
    },
    "language_info": {
      "name": "python"
    },
    "accelerator": "GPU"
  },
  "cells": [
    {
      "cell_type": "markdown",
      "source": [
        "# 0.Assignments\n",
        "\n",
        "👾 這個陽春的聊天機器人需要被優化！<br>\n",
        "若是一個對話串不間斷地持續進行，送進去的訊息量會很多，tokens數量也會跟著增加，會需要花比較多費用(💸💸💸)，也可能使模型的回應雜訊比較多而回應受到干擾，所以我們可以優化短期記憶。<br>\n",
        "另外，我們希望優化使用者體驗，我們可以根據聊天的內容整理出使用者的屬性，並在每一次跟使用者聊天時，都能根據這個使用者的狀況給予客製化的回應，因此我們要加入長期記憶的功能！\n",
        "\n",
        "<br>\n",
        "\n",
        "### 1. 短期記憶優化\n",
        "\n",
        "(1) 🔰 [基本版] 在短期記憶中，將chatbot node送入llm的訊息中加入trim的優化機制 (依據適當的tokens數量決定)\n",
        "\n",
        "\n",
        "<br>\n",
        "\n",
        "### 2. 加入長期記憶\n",
        "\n",
        "加入長期記憶，讓聊天機器人能夠記住使用者的資訊（名字、偏好語言、興趣），在下一次對話也能針對同個使用者的資訊，給予個人化的回答。\n",
        "\n",
        "(1) 🔰 [基本版]\n",
        "- chatbot node: 在chatbot node中，將該使用者的資訊取出，讓入prompt中讓llm依據使用者的資訊給予個人化的回答\n",
        "\n",
        "- write_memory node: 在每一次生成回答後，將使用者的資訊整理成一段對使用者的描述(使用llm，給予system prompt做指引，自行設計如何整理、需要整理哪些資訊)，將整理完的資訊整理到store (可跨threads存取的地方)。\n",
        "\n",
        "- config: config從原本的短期記憶只有thread_id, 也要加入user_id\n",
        "\n",
        "<img src=\"https://drive.google.com/uc?export=view&id=1H4Y0WplOi6R4Eo06Ac2JA_9TbZa2YaRD\" width=\"100\"/>\n",
        "\n",
        "\n",
        "(2) 👨‍🎓 [進階版]\n",
        "- chatbot node: 可以決定使用者的問題是否需要從長期記憶中取得資訊，以及需要取得什麼資訊\n",
        "- write_memory node: 可以整理成特定格式 (例如：使用with_structured_output，相關概念可以延伸到R3 tool calling內容)。例如：\n",
        "```\n",
        "user_profile = {\n",
        "  \"first_name\": \"XXXX\",\n",
        "  \"last_name\": \"OOO\",\n",
        "  \"preferred_lang\": [\"en\", \"zh-tw\"]\n",
        "}\n",
        "```\n",
        "- 也可以自行將graph結構調整自己喜歡的(增刪不同node, conditional router, ...)\n",
        "<br>\n",
        "備註：基本版是需要大家完成的，進階版可以自行決定是否挑戰，Enjoy the ride! 😎"
      ],
      "metadata": {
        "id": "YzuZTjoZkt7a"
      }
    },
    {
      "cell_type": "markdown",
      "source": [
        "# 1.短期記憶"
      ],
      "metadata": {
        "id": "Zprt5eyzemnq"
      }
    },
    {
      "cell_type": "markdown",
      "source": [
        "## (1) 基本版\n",
        "🔰 [基本版] 在短期記憶中，將chatbot node送入llm的訊息中加入trim的優化機制 (依據適當的tokens數量決定)\n",
        "\n",
        "note: 可以邊做邊看一下trim設定的效果以及內部運作的機制"
      ],
      "metadata": {
        "id": "PZHRs_NSsfnF"
      }
    },
    {
      "cell_type": "code",
      "source": [
        "%%capture --no-stderr\n",
        "!pip install -U langgraph langchain_openai==0.3.15 langchain transformers bitsandbytes langchain-huggingface langchain_core pydantic"
      ],
      "metadata": {
        "id": "m8Ahe-dgr3Qa"
      },
      "execution_count": 7,
      "outputs": []
    },
    {
      "cell_type": "code",
      "source": [
        "import os\n",
        "from typing import Annotated\n",
        "from typing_extensions import TypedDict\n",
        "from langgraph.graph import StateGraph, START, END\n",
        "from langgraph.graph.message import add_messages\n",
        "from langchain_core.messages import HumanMessage, AIMessage, SystemMessage\n",
        "from langgraph.checkpoint.memory import MemorySaver\n",
        "from langgraph.store.memory import InMemoryStore\n",
        "from langchain_openai import ChatOpenAI\n",
        "from langchain_core.messages import trim_messages"
      ],
      "metadata": {
        "id": "zAVP32LyRqzl"
      },
      "execution_count": 15,
      "outputs": []
    },
    {
      "cell_type": "code",
      "source": [
        "# 替代的 token 計算方法\n",
        "def count_tokens_approximately(messages):\n",
        "    \"\"\"簡單的 token 估算函數\"\"\"\n",
        "    total = 0\n",
        "    for message in messages:\n",
        "        if hasattr(message, 'content'):\n",
        "            # 粗略估算：英文約 4 字元 = 1 token，中文約 1 字 = 1 token\n",
        "            content = str(message.content)\n",
        "            # 簡單估算：每 3.5 個字元約等於 1 token\n",
        "            total += len(content) // 3\n",
        "    return total"
      ],
      "metadata": {
        "id": "EJcn9WmZSDlR"
      },
      "execution_count": 16,
      "outputs": []
    },
    {
      "cell_type": "code",
      "source": [
        "os.environ['OPENAI_API_KEY'] = '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'\n",
        "os.environ['OPENAI_API_BASE'] = 'https://openrouter.ai/api/v1'"
      ],
      "metadata": {
        "id": "FK2WpYUqJ7Vd"
      },
      "execution_count": 17,
      "outputs": []
    },
    {
      "cell_type": "code",
      "source": [
        "llm = ChatOpenAI(\n",
        "    model=\"qwen/qwen3-14b:free\",  # 可以選擇其他模型\n",
        "    temperature=0.7,\n",
        "    max_tokens=3000\n",
        ")"
      ],
      "metadata": {
        "id": "gdDTpEgTSH1M"
      },
      "execution_count": 113,
      "outputs": []
    },
    {
      "cell_type": "code",
      "source": [
        "class State(TypedDict):\n",
        "    messages: Annotated[list, add_messages]\n",
        "\n",
        "def chatbot_basic(state: State):\n",
        "    \"\"\"基本版聊天機器人，包含訊息修剪功能\"\"\"\n",
        "    messages = state[\"messages\"]\n",
        "\n",
        "    try:\n",
        "        trimmed_messages = trim_messages(\n",
        "            messages,\n",
        "            max_tokens=2000,\n",
        "            strategy=\"last\",\n",
        "            token_counter=count_tokens_approximately,\n",
        "            include_system=True\n",
        "        )\n",
        "    except Exception as e:\n",
        "        print(f\"Trim messages 失敗，使用備用方案: {e}\")\n",
        "        trimmed_messages = messages[-10:]\n",
        "\n",
        "    response = llm.invoke(trimmed_messages)\n",
        "    return {\"messages\": [response]}"
      ],
      "metadata": {
        "id": "beAp0_a0yNsP"
      },
      "execution_count": 54,
      "outputs": []
    },
    {
      "cell_type": "code",
      "source": [
        "def create_basic_graph():\n",
        "    \"\"\"建立基本版 graph\"\"\"\n",
        "    graph_builder = StateGraph(State)\n",
        "    graph_builder.add_node(\"chatbot\", chatbot_basic)\n",
        "    graph_builder.add_edge(START, \"chatbot\")\n",
        "    graph_builder.add_edge(\"chatbot\", END)\n",
        "\n",
        "    memory = MemorySaver()\n",
        "    graph = graph_builder.compile(checkpointer=memory)\n",
        "    return graph"
      ],
      "metadata": {
        "id": "80Tj2H72VVoZ"
      },
      "execution_count": 55,
      "outputs": []
    },
    {
      "cell_type": "markdown",
      "source": [
        "# 2.長期記憶"
      ],
      "metadata": {
        "id": "2O2TZ8VqBpuA"
      }
    },
    {
      "cell_type": "markdown",
      "source": [
        "## (1) 基本版\n",
        "🔰 [基本版]\n",
        "- chatbot node: 在chatbot node中，將該使用者的資訊取出，讓入prompt中讓llm依據使用者的資訊給予個人化的回答\n",
        "\n",
        "- write_memory node: 在每一次生成回答後，將使用者的資訊整理成一段對使用者的描述(使用llm，給予system prompt做指引，自行設計如何整理、需要整理哪些資訊)，將整理完的資訊整理到store (可跨threads存取的地方)。\n",
        "\n",
        "- config: config從原本的短期記憶只有thread_id, 也要加入user_id\n",
        "\n",
        "<img src=\"https://drive.google.com/uc?export=view&id=1H4Y0WplOi6R4Eo06Ac2JA_9TbZa2YaRD\" width=\"100\"/>"
      ],
      "metadata": {
        "id": "zZSFFrWiuE3v"
      }
    },
    {
      "cell_type": "code",
      "source": [
        "def chatbot_with_memory(state: State, *, config):\n",
        "    \"\"\"包含長期記憶的聊天機器人\"\"\"\n",
        "    messages = state[\"messages\"]\n",
        "\n",
        "    # Debug: 輸出 config 資訊\n",
        "    print(f\"=== Chatbot Config Debug ===\")\n",
        "    print(f\"Config type: {type(config)}\")\n",
        "    print(f\"Config content: {config}\")\n",
        "\n",
        "    # 從 config 取得 user_id\n",
        "    user_id = config[\"configurable\"][\"user_id\"]\n",
        "    print(f\"User ID: {user_id}\")\n",
        "\n",
        "    # 嘗試獲取 store - 修正版\n",
        "    store = None\n",
        "\n",
        "    # 方法1: 直接從 config 取得\n",
        "    if hasattr(config, 'store'):\n",
        "        store = config.store\n",
        "        print(\"Store 來源: config.store\")\n",
        "    elif 'store' in config:\n",
        "        store = config['store']\n",
        "        print(\"Store 來源: config['store']\")\n",
        "\n",
        "    # 方法2: 從 configurable 中取得\n",
        "    elif 'store' in config.get('configurable', {}):\n",
        "        store = config['configurable']['store']\n",
        "        print(\"Store 來源: config['configurable']['store']\")\n",
        "\n",
        "    # 方法3: 使用全域變數\n",
        "    else:\n",
        "        global global_store\n",
        "        store = global_store\n",
        "        print(\"Store 來源: global_store\")\n",
        "\n",
        "    print(f\"Store 狀態: {store is not None}\")\n",
        "\n",
        "    # 從 store 取得使用者的長期記憶 - 修正版\n",
        "    user_memory = None\n",
        "    if store:\n",
        "        try:\n",
        "            namespace = (\"user_profiles\", user_id)\n",
        "            print(f\"嘗試讀取 namespace: {namespace}\")\n",
        "\n",
        "            # 修正：使用 get 方法而不是 search\n",
        "            memory_item = store.get(namespace, \"profile\")\n",
        "            if memory_item:\n",
        "                user_memory = memory_item.value\n",
        "                print(f\"✅ 找到使用者記憶: {user_memory[:100]}...\")\n",
        "            else:\n",
        "                print(\"❌ 沒有找到使用者記憶\")\n",
        "\n",
        "            # 額外調試：也試試 search 方法\n",
        "            try:\n",
        "                memories = list(store.search(namespace))\n",
        "                print(f\"Search 結果數量: {len(memories)}\")\n",
        "                for i, mem in enumerate(memories):\n",
        "                    print(f\"  Memory {i}: {str(mem)[:100]}...\")\n",
        "            except Exception as search_e:\n",
        "                print(f\"Search 方法錯誤: {search_e}\")\n",
        "\n",
        "        except Exception as e:\n",
        "            print(f\"讀取長期記憶錯誤: {e}\")\n",
        "            import traceback\n",
        "            traceback.print_exc()\n",
        "    else:\n",
        "        print(\"⚠️  無法獲取 store\")\n",
        "\n",
        "    # 準備系統提示詞\n",
        "    system_prompt = \"你是一個友善的聊天機器人助手，請用繁體中文回應。\"\n",
        "\n",
        "    if user_memory:\n",
        "        system_prompt += f\"\\n\\n關於這個使用者的資訊：{user_memory}\\n請根據使用者的資訊給予個人化的回應。\"\n",
        "        print(\"✅ 已加入個人化資訊到系統提示中\")\n",
        "    else:\n",
        "        print(\"❌ 沒有個人化資訊可用\")\n",
        "\n",
        "    # 構建完整的訊息列表\n",
        "    full_messages = [SystemMessage(content=system_prompt)]\n",
        "\n",
        "    # 修剪歷史訊息\n",
        "    try:\n",
        "        trimmed_messages = trim_messages(\n",
        "            messages,\n",
        "            max_tokens=1500,\n",
        "            strategy=\"last\",\n",
        "            token_counter=count_tokens_approximately,\n",
        "            include_system=False\n",
        "        )\n",
        "    except Exception as e:\n",
        "        trimmed_messages = messages[-8:]\n",
        "\n",
        "    full_messages.extend(trimmed_messages)\n",
        "\n",
        "    response = llm.invoke(full_messages)\n",
        "    print(\"=== Chatbot Debug End ===\\n\")\n",
        "\n",
        "    return {\"messages\": [response]}"
      ],
      "metadata": {
        "id": "f2PFRidLSusx"
      },
      "execution_count": 103,
      "outputs": []
    },
    {
      "cell_type": "code",
      "source": [
        "def write_memory(state: State, *, config):\n",
        "    \"\"\"將對話資訊整理並寫入長期記憶\"\"\"\n",
        "    messages = state[\"messages\"]\n",
        "    user_id = config[\"configurable\"][\"user_id\"]\n",
        "\n",
        "    print(f\"=== Write Memory Debug ===\")\n",
        "    print(f\"User ID: {user_id}\")\n",
        "\n",
        "    # 嘗試獲取 store - 與讀取邏輯保持一致\n",
        "    store = None\n",
        "    if hasattr(config, 'store'):\n",
        "        store = config.store\n",
        "    elif 'store' in config:\n",
        "        store = config['store']\n",
        "    elif 'store' in config.get('configurable', {}):\n",
        "        store = config['configurable']['store']\n",
        "    else:\n",
        "        global global_store\n",
        "        store = global_store\n",
        "\n",
        "    print(f\"Store 狀態: {store is not None}\")\n",
        "\n",
        "    if not store:\n",
        "        print(\"⚠️  無法獲取 store，跳過記憶寫入\")\n",
        "        return {}\n",
        "\n",
        "    try:\n",
        "        # 取得最近的對話內容\n",
        "        recent_messages = messages[-4:] if len(messages) >= 4 else messages\n",
        "\n",
        "        # 構建用於記憶整理的提示詞\n",
        "        memory_prompt = \"\"\"\n",
        "請根據以下對話內容，整理出使用者的重要資訊。\n",
        "請提取並整理：\n",
        "- 使用者的姓名或稱呼\n",
        "- 偏好的語言\n",
        "- 興趣和愛好\n",
        "- 個人特徵或背景\n",
        "- 其他重要的個人資訊\n",
        "\n",
        "請以簡潔的方式描述這個使用者，如果沒有新的重要資訊，請回答\"無新增資訊\"。\n",
        "\n",
        "對話內容：\n",
        "\"\"\"\n",
        "\n",
        "        # 添加對話內容\n",
        "        for msg in recent_messages:\n",
        "            if isinstance(msg, HumanMessage):\n",
        "                memory_prompt += f\"使用者：{msg.content}\\n\"\n",
        "            elif isinstance(msg, AIMessage):\n",
        "                memory_prompt += f\"助手：{msg.content}\\n\"\n",
        "\n",
        "        # 使用 LLM 整理記憶\n",
        "        memory_response = llm.invoke([SystemMessage(content=memory_prompt)])\n",
        "        new_memory = memory_response.content\n",
        "\n",
        "        print(f\"分析得到的新記憶: {new_memory}\")\n",
        "\n",
        "        # 如果有新的記憶資訊，則更新 store\n",
        "        if new_memory and \"無新增資訊\" not in new_memory:\n",
        "            namespace = (\"user_profiles\", user_id)\n",
        "\n",
        "            # 嘗試獲取現有記憶 - 修正版\n",
        "            existing_memory = \"\"\n",
        "            try:\n",
        "                memory_item = store.get(namespace, \"profile\")\n",
        "                if memory_item:\n",
        "                    existing_memory = memory_item.value\n",
        "                    print(f\"現有記憶: {existing_memory}\")\n",
        "            except Exception as e:\n",
        "                print(f\"讀取現有記憶錯誤: {e}\")\n",
        "\n",
        "            # 合併新舊記憶\n",
        "            if existing_memory:\n",
        "                combined_memory = f\"{existing_memory}\\n\\n新增資訊：{new_memory}\"\n",
        "            else:\n",
        "                combined_memory = new_memory\n",
        "\n",
        "            # 儲存到 store\n",
        "            store.put(namespace, \"profile\", combined_memory)\n",
        "            print(f\"✅ 已為使用者 {user_id} 儲存記憶\")\n",
        "\n",
        "            # 立即驗證寫入\n",
        "            try:\n",
        "                verify_item = store.get(namespace, \"profile\")\n",
        "                if verify_item:\n",
        "                    print(f\"✅ 驗證成功，記憶已寫入: {verify_item.value[:50]}...\")\n",
        "                else:\n",
        "                    print(\"❌ 驗證失敗，記憶可能沒有正確寫入\")\n",
        "            except Exception as verify_e:\n",
        "                print(f\"驗證錯誤: {verify_e}\")\n",
        "\n",
        "    except Exception as e:\n",
        "        print(f\"記憶寫入錯誤: {e}\")\n",
        "        import traceback\n",
        "        traceback.print_exc()\n",
        "\n",
        "    print(\"=== Write Memory Debug End ===\\n\")\n",
        "    return {}"
      ],
      "metadata": {
        "id": "BTMKnROpVlaT"
      },
      "execution_count": 104,
      "outputs": []
    },
    {
      "cell_type": "code",
      "source": [
        "# 全域 store 變數\n",
        "global_store = None"
      ],
      "metadata": {
        "id": "thbC4jt0bI_P"
      },
      "execution_count": 105,
      "outputs": []
    },
    {
      "cell_type": "code",
      "source": [
        "def create_memory_graph():\n",
        "    \"\"\"建立包含長期記憶的 graph - 修正版\"\"\"\n",
        "    global global_store\n",
        "\n",
        "    builder = StateGraph(State)\n",
        "    builder.add_node(\"chatbot\", chatbot_with_memory)\n",
        "    builder.add_node(\"write_memory\", write_memory)\n",
        "    builder.add_edge(START, \"chatbot\")\n",
        "    builder.add_edge(\"chatbot\", \"write_memory\")\n",
        "    builder.add_edge(\"write_memory\", END)\n",
        "\n",
        "    # 編譯 graph\n",
        "    memory = MemorySaver()\n",
        "    store = InMemoryStore()\n",
        "    global_store = store  # 保存全域引用\n",
        "\n",
        "    graph = builder.compile(checkpointer=memory, store=store)\n",
        "\n",
        "    print(f\"Graph 建立完成，Store: {store is not None}\")\n",
        "    print(f\"Store ID: {id(store)}\")\n",
        "    return graph, store  # 同時回傳 store"
      ],
      "metadata": {
        "id": "o2sK1m4AVpb6"
      },
      "execution_count": 106,
      "outputs": []
    },
    {
      "cell_type": "code",
      "source": [
        "graph"
      ],
      "metadata": {
        "colab": {
          "base_uri": "https://localhost:8080/",
          "height": 350
        },
        "id": "JblBU3tecQ9-",
        "outputId": "1ba09e81-4d7b-4eb6-994f-4b71e6834ba2"
      },
      "execution_count": 107,
      "outputs": [
        {
          "output_type": "execute_result",
          "data": {
            "text/plain": [
              "<langgraph.graph.state.CompiledStateGraph object at 0x7e09e7f3ac50>"
            ],
            "image/png": "[encoded data removed]"
          },
          "metadata": {},
          "execution_count": 107
        }
      ]
    },
    {
      "cell_type": "markdown",
      "source": [
        "# 測試和使用函數"
      ],
      "metadata": {
        "id": "JFqg436etzLs"
      }
    },
    {
      "cell_type": "code",
      "source": [
        "def stream_graph_updates(graph, user_input: str, config: dict):\n",
        "    \"\"\"串流輸出 graph 更新\"\"\"\n",
        "    try:\n",
        "        for event in graph.stream({\"messages\": [{\"role\": \"user\", \"content\": user_input}]}, config):\n",
        "            if \"chatbot\" in event:\n",
        "                for value in event.values():\n",
        "                    print(\"Assistant:\", value[\"messages\"][-1].content)\n",
        "    except Exception as e:\n",
        "        print(f\"串流處理錯誤: {e}\")\n",
        "        import traceback\n",
        "        traceback.print_exc()"
      ],
      "metadata": {
        "id": "D4VmdBPNVsUx"
      },
      "execution_count": 108,
      "outputs": []
    },
    {
      "cell_type": "code",
      "source": [
        "def test_basic_chatbot():\n",
        "    \"\"\"測試基本版聊天機器人\"\"\"\n",
        "    print(\"=== 測試基本版聊天機器人（含短期記憶優化） ===\")\n",
        "    graph = create_basic_graph()\n",
        "    config = {\"configurable\": {\"thread_id\": \"conversation_1\"}}\n",
        "\n",
        "    print(\"開始對話 (輸入 'quit', 'exit', 'q' 停止對話)\")\n",
        "    while True:\n",
        "        try:\n",
        "            user_input = input(\"User: \")\n",
        "            if user_input.lower() in [\"quit\", \"exit\", \"q\"]:\n",
        "                print(\"Goodbye!\")\n",
        "                break\n",
        "            stream_graph_updates(graph, user_input, config)\n",
        "        except Exception as e:\n",
        "            print(f\"錯誤: {e}\")\n",
        "            break\n"
      ],
      "metadata": {
        "id": "o6osupNZV1Cc"
      },
      "execution_count": 109,
      "outputs": []
    },
    {
      "cell_type": "code",
      "source": [
        "def test_memory_chatbot():\n",
        "    \"\"\"測試包含長期記憶的聊天機器人 - 修正版\"\"\"\n",
        "    print(\"=== 測試長期記憶聊天機器人 ===\")\n",
        "    graph, store = create_memory_graph()  # 接收 store\n",
        "\n",
        "    print(f\"Main Store ID: {id(store)}\")\n",
        "    print(f\"Global Store ID: {id(global_store)}\")\n",
        "\n",
        "    # 使用者A的第一次對話\n",
        "    print(\"\\n--- 使用者A的第一次對話 ---\")\n",
        "    # 修正：直接將 store 加入 config\n",
        "    config1 = {\n",
        "        \"configurable\": {\n",
        "            \"thread_id\": \"conversation_1\",\n",
        "            \"user_id\": \"user_a\",\n",
        "            \"store\": store  # 直接傳遞 store\n",
        "        }\n",
        "    }\n",
        "\n",
        "    print(\"開始對話 (輸入 'quit', 'exit', 'q' 停止對話)\")\n",
        "    while True:\n",
        "        try:\n",
        "            user_input = input(\"User A: \")\n",
        "            if user_input.lower() in [\"quit\", \"exit\", \"q\"]:\n",
        "                print(\"結束第一次對話!\")\n",
        "                break\n",
        "            stream_graph_updates(graph, user_input, config1)\n",
        "        except Exception as e:\n",
        "            print(f\"錯誤: {e}\")\n",
        "            break\n",
        "\n",
        "    # 使用者A的第二次對話（新的 thread，但同一個 user）\n",
        "    print(\"\\n--- 使用者A的第二次對話 ---\")\n",
        "    # 修正：創建新的 config，但使用相同的 store\n",
        "    config2 = {\n",
        "        \"configurable\": {\n",
        "            \"thread_id\": \"conversation_2\",\n",
        "            \"user_id\": \"user_a\",\n",
        "            \"store\": store  # 使用相同的 store 實例\n",
        "        }\n",
        "    }\n",
        "\n",
        "    print(\"開始第二次對話 (輸入 'quit', 'exit', 'q' 停止對話)\")\n",
        "    while True:\n",
        "        try:\n",
        "            user_input = input(\"User A: \")\n",
        "            if user_input.lower() in [\"quit\", \"exit\", \"q\"]:\n",
        "                print(\"結束第二次對話!\")\n",
        "                break\n",
        "            stream_graph_updates(graph, user_input, config2)\n",
        "        except Exception as e:\n",
        "            print(f\"錯誤: {e}\")\n",
        "            break\n"
      ],
      "metadata": {
        "id": "I0Gt0JaDV3Dz"
      },
      "execution_count": 110,
      "outputs": []
    },
    {
      "cell_type": "markdown",
      "source": [
        "進階版功能"
      ],
      "metadata": {
        "id": "EEaBC4VlV5NL"
      }
    },
    {
      "cell_type": "code",
      "source": [
        "class UserProfile(BaseModel):\n",
        "    \"\"\"結構化的使用者檔案\"\"\"\n",
        "    first_name: Optional[str] = None\n",
        "    last_name: Optional[str] = None\n",
        "    preferred_lang: List[str] = []\n",
        "    interests: List[str] = []\n",
        "    background: Optional[str] = None\n",
        "\n",
        "def advanced_write_memory(state: State, *, config):\n",
        "    \"\"\"進階版記憶寫入，使用結構化輸出\"\"\"\n",
        "    messages = state[\"messages\"]\n",
        "    user_id = config[\"configurable\"][\"user_id\"]\n",
        "\n",
        "    # 獲取 store 的邏輯與基本版保持一致\n",
        "    store = None\n",
        "    if hasattr(config, 'store'):\n",
        "        store = config.store\n",
        "    elif 'store' in config:\n",
        "        store = config['store']\n",
        "    elif 'store' in config.get('configurable', {}):\n",
        "        store = config['configurable']['store']\n",
        "    else:\n",
        "        global global_store\n",
        "        store = global_store\n",
        "\n",
        "    if not store:\n",
        "        return {}\n",
        "\n",
        "    recent_messages = messages[-4:] if len(messages) >= 4 else messages\n",
        "\n",
        "    conversation_text = \"\"\n",
        "    for msg in recent_messages:\n",
        "        if isinstance(msg, HumanMessage):\n",
        "            conversation_text += f\"使用者：{msg.content}\\n\"\n",
        "        elif isinstance(msg, AIMessage):\n",
        "            conversation_text += f\"助手：{msg.content}\\n\"\n",
        "\n",
        "    structured_llm = llm.with_structured_output(UserProfile)\n",
        "\n",
        "    try:\n",
        "        profile_prompt = f\"\"\"\n",
        "        根據以下對話，提取使用者的資訊：\n",
        "        {conversation_text}\n",
        "\n",
        "        請提取：\n",
        "        - first_name: 使用者的名字\n",
        "        - last_name: 使用者的姓氏\n",
        "        - preferred_lang: 偏好語言列表（如 [\"zh-tw\", \"en\"]）\n",
        "        - interests: 興趣愛好列表\n",
        "        - background: 背景資訊\n",
        "\n",
        "        如果某些資訊不明確，請留空。\n",
        "        \"\"\"\n",
        "\n",
        "        new_profile = structured_llm.invoke([SystemMessage(content=profile_prompt)])\n",
        "        store.put((\"user_profiles\", user_id), \"structured_profile\", new_profile.dict())\n",
        "        print(f\"已儲存結構化使用者檔案: {new_profile}\")\n",
        "\n",
        "    except Exception as e:\n",
        "        print(f\"結構化記憶寫入錯誤: {e}\")\n",
        "\n",
        "    return {}"
      ],
      "metadata": {
        "id": "mrddF3FjV5kT"
      },
      "execution_count": 111,
      "outputs": []
    },
    {
      "cell_type": "markdown",
      "source": [
        "測試"
      ],
      "metadata": {
        "id": "JcNpEgqoWDM-"
      }
    },
    {
      "cell_type": "code",
      "source": [
        "print(\"聊天機器人記憶優化作業\")\n",
        "print(\"1. 測試基本版（短期記憶優化）\")\n",
        "print(\"2. 測試長期記憶版\")\n",
        "print(\"3. 退出\")\n",
        "\n",
        "while True:\n",
        "    choice = input(\"\\n請選擇測試項目 (1-3): \")\n",
        "\n",
        "    if choice == \"1\":\n",
        "        test_basic_chatbot()\n",
        "    elif choice == \"2\":\n",
        "        test_memory_chatbot()3\n",
        "    elif choice == \"3\":\n",
        "        print(\"再見！\")\n",
        "        break\n",
        "    else:\n",
        "        print(\"無效選擇，請重試\")"
      ],
      "metadata": {
        "colab": {
          "base_uri": "https://localhost:8080/"
        },
        "id": "qLp-M-u6WDAW",
        "outputId": "2539a5c8-2fa4-4705-9d97-29f671f7163d"
      },
      "execution_count": 114,
      "outputs": [
        {
          "name": "stdout",
          "output_type": "stream",
          "text": [
            "聊天機器人記憶優化作業\n",
            "1. 測試基本版（短期記憶優化）\n",
            "2. 測試長期記憶版\n",
            "3. 退出\n",
            "\n",
            "請選擇測試項目 (1-3): 1\n",
            "=== 測試基本版聊天機器人（含短期記憶優化） ===\n",
            "開始對話 (輸入 'quit', 'exit', 'q' 停止對話)\n",
            "User: 你好\n"
          ]
        },
        {
          "output_type": "stream",
          "name": "stderr",
          "text": [
            "Traceback (most recent call last):\n",
            "  File \"<ipython-input-108-3fe4c8b9022b>\", line 4, in stream_graph_updates\n",
            "    for event in graph.stream({\"messages\": [{\"role\": \"user\", \"content\": user_input}]}, config):\n",
            "  File \"/usr/local/lib/python3.11/dist-packages/langgraph/pregel/__init__.py\", line 2436, in stream\n",
            "    for _ in runner.tick(\n",
            "  File \"<ipython-input-54-b7b75ba024bd>\", line 24, in chatbot_basic\n",
            "    response = llm.invoke(trimmed_messages)\n",
            "               ^^^^^^^^^^^^^^^^^^^^^^^^^^^^\n",
            "  File \"/usr/local/lib/python3.11/dist-packages/langchain_core/language_models/chat_models.py\", line 371, in invoke\n",
            "    \"ChatGeneration\",\n",
            "  File \"/usr/local/lib/python3.11/dist-packages/langchain_core/language_models/chat_models.py\", line 956, in generate_prompt\n",
            "    prompt_messages = [p.to_messages() for p in prompts]\n",
            "           ^^^^^^^^^^^^^^^^^^^^^^^^^^^^^^^^^^^^^^^^^^^^^^\n",
            "  File \"/usr/local/lib/python3.11/dist-packages/langchain_core/language_models/chat_models.py\", line 775, in generate\n",
            "    results.append(\n",
            "        ^^^^^^^^^^^\n",
            "  File \"/usr/local/lib/python3.11/dist-packages/langchain_core/language_models/chat_models.py\", line 1021, in _generate_with_cache\n",
            "    elif inspect.signature(self._generate).parameters.get(\"run_manager\"):\n",
            "                 ^^^^^^^^^^^^^^^^^^^^^^^^^^^^^^^^^^^^^^^^^^^^^^^^^^^^^^^^\n",
            "  File \"/usr/local/lib/python3.11/dist-packages/langchain_openai/chat_models/base.py\", line 957, in _generate\n",
            "    response = self.client.create(**payload)\n",
            "               ^^^^^^^^^^^^^^^^^^^^^^^^^^^^^\n",
            "  File \"/usr/local/lib/python3.11/dist-packages/openai/_utils/_utils.py\", line 287, in wrapper\n",
            "    return func(*args, **kwargs)\n",
            "           ^^^^^^^^^^^^^^^^^^^^^\n",
            "  File \"/usr/local/lib/python3.11/dist-packages/openai/resources/chat/completions/completions.py\", line 925, in create\n",
            "    return self._post(\n",
            "           ^^^^^^^^^^^\n",
            "  File \"/usr/local/lib/python3.11/dist-packages/openai/_base_client.py\", line 1239, in post\n",
            "    return cast(ResponseT, self.request(cast_to, opts, stream=stream, stream_cls=stream_cls))\n",
            "                           ^^^^^^^^^^^^^^^^^^^^^^^^^^^^^^^^^^^^^^^^^^^^^^^^^^^^^^^^^^^^^^^^^\n",
            "  File \"/usr/local/lib/python3.11/dist-packages/openai/_base_client.py\", line 1034, in request\n",
            "    raise self._make_status_error_from_response(err.response) from None\n",
            "openai.RateLimitError: Error code: 429 - {'error': {'message': 'Rate limit exceeded: free-models-per-day. Add 10 credits to unlock 1000 free model requests per day', 'code': 429, 'metadata': {'headers': {'X-RateLimit-Limit': '50', 'X-RateLimit-Remaining': '0', 'X-RateLimit-Reset': '1748995200000'}, 'provider_name': None}}, 'user_id': 'user_2w9gBJLw3SzVow6vIHt7E17gtjY'}\n",
            "During task with name 'chatbot' and id '1c0b3bef-64d8-078d-84ef-5d0002e209b7'\n"
          ]
        },
        {
          "output_type": "stream",
          "name": "stdout",
          "text": [
            "串流處理錯誤: Error code: 429 - {'error': {'message': 'Rate limit exceeded: free-models-per-day. Add 10 credits to unlock 1000 free model requests per day', 'code': 429, 'metadata': {'headers': {'X-RateLimit-Limit': '50', 'X-RateLimit-Remaining': '0', 'X-RateLimit-Reset': '1748995200000'}, 'provider_name': None}}, 'user_id': 'user_2w9gBJLw3SzVow6vIHt7E17gtjY'}\n",
            "User: q\n",
            "Goodbye!\n",
            "\n",
            "請選擇測試項目 (1-3): \n",
            "無效選擇，請重試\n",
            "\n",
            "請選擇測試項目 (1-3): 3\n",
            "再見！\n"
          ]
        }
      ]
    },
    {
      "cell_type": "code",
      "source": [],
      "metadata": {
        "id": "rDlYE2obiE1G"
      },
      "execution_count": null,
      "outputs": []
    }
  ]
}